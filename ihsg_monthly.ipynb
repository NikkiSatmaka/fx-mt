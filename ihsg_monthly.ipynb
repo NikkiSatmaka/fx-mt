{
 "cells": [
  {
   "cell_type": "code",
   "execution_count": 1,
   "id": "e43145fd-47da-4ed9-ad24-1e23bc916074",
   "metadata": {},
   "outputs": [],
   "source": [
    "import numpy as np\n",
    "import pandas as pd\n",
    "import yfinance as yf"
   ]
  },
  {
   "cell_type": "code",
   "execution_count": 25,
   "id": "26270f86-bc89-49de-b801-a9649b01eaeb",
   "metadata": {},
   "outputs": [
    {
     "name": "stdout",
     "output_type": "stream",
     "text": [
      "[*********************100%***********************]  1 of 1 completed\n"
     ]
    },
    {
     "data": {
      "text/plain": [
       "Date\n",
       "1     0.021912\n",
       "2     0.006216\n",
       "3     0.002840\n",
       "4     0.020559\n",
       "5     0.018620\n",
       "6     0.012878\n",
       "7     0.011931\n",
       "8    -0.032455\n",
       "9    -0.014563\n",
       "10    0.001425\n",
       "11    0.012203\n",
       "12    0.043907\n",
       "Name: pct_change, dtype: float64"
      ]
     },
     "execution_count": 25,
     "metadata": {},
     "output_type": "execute_result"
    }
   ],
   "source": [
    "jkse = yf.download('^JKSE', interval='1mo')\n",
    "jkse['pct_change'] = jkse['Adj Close'].pct_change()\n",
    "jkse.drop(index=jkse.index[-1], inplace=True)\n",
    "\n",
    "jkse.groupby(by=[jkse.index.month])['pct_change'].mean()"
   ]
  },
  {
   "cell_type": "code",
   "execution_count": 8,
   "id": "d01628b5-42cc-4cfd-9da5-6ad1272a01ef",
   "metadata": {},
   "outputs": [],
   "source": [
    "jkse['pct_change'] = jkse['Adj Close'].pct_change()"
   ]
  },
  {
   "cell_type": "code",
   "execution_count": 14,
   "id": "48fefe8d-ed9d-4170-b7fa-02412828fbee",
   "metadata": {},
   "outputs": [
    {
     "data": {
      "text/plain": [
       "Timestamp('2021-07-13 00:00:00')"
      ]
     },
     "execution_count": 14,
     "metadata": {},
     "output_type": "execute_result"
    }
   ],
   "source": [
    "jkse.index[-1]"
   ]
  },
  {
   "cell_type": "code",
   "execution_count": 16,
   "id": "8473b61f-38a7-4d26-940d-658e46505d57",
   "metadata": {},
   "outputs": [],
   "source": [
    "jkse.drop(index=jkse.index[-1], inplace=True)"
   ]
  },
  {
   "cell_type": "code",
   "execution_count": 17,
   "id": "e5302f4e-e2ca-472e-b0c7-503296d6dee4",
   "metadata": {},
   "outputs": [
    {
     "data": {
      "text/html": [
       "<div>\n",
       "<style scoped>\n",
       "    .dataframe tbody tr th:only-of-type {\n",
       "        vertical-align: middle;\n",
       "    }\n",
       "\n",
       "    .dataframe tbody tr th {\n",
       "        vertical-align: top;\n",
       "    }\n",
       "\n",
       "    .dataframe thead th {\n",
       "        text-align: right;\n",
       "    }\n",
       "</style>\n",
       "<table border=\"1\" class=\"dataframe\">\n",
       "  <thead>\n",
       "    <tr style=\"text-align: right;\">\n",
       "      <th></th>\n",
       "      <th>Open</th>\n",
       "      <th>High</th>\n",
       "      <th>Low</th>\n",
       "      <th>Close</th>\n",
       "      <th>Adj Close</th>\n",
       "      <th>Volume</th>\n",
       "      <th>pct_change</th>\n",
       "    </tr>\n",
       "    <tr>\n",
       "      <th>Date</th>\n",
       "      <th></th>\n",
       "      <th></th>\n",
       "      <th></th>\n",
       "      <th></th>\n",
       "      <th></th>\n",
       "      <th></th>\n",
       "      <th></th>\n",
       "    </tr>\n",
       "  </thead>\n",
       "  <tbody>\n",
       "    <tr>\n",
       "      <th>1990-05-01</th>\n",
       "      <td>639.010010</td>\n",
       "      <td>647.401001</td>\n",
       "      <td>636.153992</td>\n",
       "      <td>636.400024</td>\n",
       "      <td>636.400024</td>\n",
       "      <td>0</td>\n",
       "      <td>NaN</td>\n",
       "    </tr>\n",
       "    <tr>\n",
       "      <th>1990-06-01</th>\n",
       "      <td>635.020020</td>\n",
       "      <td>637.080017</td>\n",
       "      <td>621.789978</td>\n",
       "      <td>624.320007</td>\n",
       "      <td>624.320007</td>\n",
       "      <td>0</td>\n",
       "      <td>-0.018982</td>\n",
       "    </tr>\n",
       "    <tr>\n",
       "      <th>1990-07-01</th>\n",
       "      <td>629.440002</td>\n",
       "      <td>631.169983</td>\n",
       "      <td>614.406006</td>\n",
       "      <td>614.406006</td>\n",
       "      <td>614.406006</td>\n",
       "      <td>0</td>\n",
       "      <td>-0.015880</td>\n",
       "    </tr>\n",
       "    <tr>\n",
       "      <th>1990-08-01</th>\n",
       "      <td>611.981018</td>\n",
       "      <td>613.494019</td>\n",
       "      <td>546.830017</td>\n",
       "      <td>571.020020</td>\n",
       "      <td>571.020020</td>\n",
       "      <td>0</td>\n",
       "      <td>-0.070615</td>\n",
       "    </tr>\n",
       "    <tr>\n",
       "      <th>1990-09-01</th>\n",
       "      <td>567.406982</td>\n",
       "      <td>567.406982</td>\n",
       "      <td>454.511993</td>\n",
       "      <td>468.509003</td>\n",
       "      <td>468.509003</td>\n",
       "      <td>0</td>\n",
       "      <td>-0.179523</td>\n",
       "    </tr>\n",
       "    <tr>\n",
       "      <th>...</th>\n",
       "      <td>...</td>\n",
       "      <td>...</td>\n",
       "      <td>...</td>\n",
       "      <td>...</td>\n",
       "      <td>...</td>\n",
       "      <td>...</td>\n",
       "      <td>...</td>\n",
       "    </tr>\n",
       "    <tr>\n",
       "      <th>2021-03-01</th>\n",
       "      <td>6281.856934</td>\n",
       "      <td>6394.452148</td>\n",
       "      <td>5892.645020</td>\n",
       "      <td>5985.521973</td>\n",
       "      <td>5985.521973</td>\n",
       "      <td>3451452000</td>\n",
       "      <td>-0.041058</td>\n",
       "    </tr>\n",
       "    <tr>\n",
       "      <th>2021-04-01</th>\n",
       "      <td>5988.022949</td>\n",
       "      <td>6115.620117</td>\n",
       "      <td>5883.523926</td>\n",
       "      <td>5995.616211</td>\n",
       "      <td>5995.616211</td>\n",
       "      <td>2813253600</td>\n",
       "      <td>0.001686</td>\n",
       "    </tr>\n",
       "    <tr>\n",
       "      <th>2021-05-01</th>\n",
       "      <td>5999.661133</td>\n",
       "      <td>6005.087891</td>\n",
       "      <td>5742.038086</td>\n",
       "      <td>5947.462891</td>\n",
       "      <td>5947.462891</td>\n",
       "      <td>2453433400</td>\n",
       "      <td>-0.008031</td>\n",
       "    </tr>\n",
       "    <tr>\n",
       "      <th>2021-06-01</th>\n",
       "      <td>6002.480957</td>\n",
       "      <td>6134.881836</td>\n",
       "      <td>5884.917969</td>\n",
       "      <td>5985.488770</td>\n",
       "      <td>5985.488770</td>\n",
       "      <td>3980614000</td>\n",
       "      <td>0.006394</td>\n",
       "    </tr>\n",
       "    <tr>\n",
       "      <th>2021-07-01</th>\n",
       "      <td>6001.121094</td>\n",
       "      <td>6080.222168</td>\n",
       "      <td>5969.099121</td>\n",
       "      <td>6039.844238</td>\n",
       "      <td>6039.844238</td>\n",
       "      <td>1041937900</td>\n",
       "      <td>0.009081</td>\n",
       "    </tr>\n",
       "  </tbody>\n",
       "</table>\n",
       "<p>375 rows × 7 columns</p>\n",
       "</div>"
      ],
      "text/plain": [
       "                   Open         High          Low        Close    Adj Close  \\\n",
       "Date                                                                          \n",
       "1990-05-01   639.010010   647.401001   636.153992   636.400024   636.400024   \n",
       "1990-06-01   635.020020   637.080017   621.789978   624.320007   624.320007   \n",
       "1990-07-01   629.440002   631.169983   614.406006   614.406006   614.406006   \n",
       "1990-08-01   611.981018   613.494019   546.830017   571.020020   571.020020   \n",
       "1990-09-01   567.406982   567.406982   454.511993   468.509003   468.509003   \n",
       "...                 ...          ...          ...          ...          ...   \n",
       "2021-03-01  6281.856934  6394.452148  5892.645020  5985.521973  5985.521973   \n",
       "2021-04-01  5988.022949  6115.620117  5883.523926  5995.616211  5995.616211   \n",
       "2021-05-01  5999.661133  6005.087891  5742.038086  5947.462891  5947.462891   \n",
       "2021-06-01  6002.480957  6134.881836  5884.917969  5985.488770  5985.488770   \n",
       "2021-07-01  6001.121094  6080.222168  5969.099121  6039.844238  6039.844238   \n",
       "\n",
       "                Volume  pct_change  \n",
       "Date                                \n",
       "1990-05-01           0         NaN  \n",
       "1990-06-01           0   -0.018982  \n",
       "1990-07-01           0   -0.015880  \n",
       "1990-08-01           0   -0.070615  \n",
       "1990-09-01           0   -0.179523  \n",
       "...                ...         ...  \n",
       "2021-03-01  3451452000   -0.041058  \n",
       "2021-04-01  2813253600    0.001686  \n",
       "2021-05-01  2453433400   -0.008031  \n",
       "2021-06-01  3980614000    0.006394  \n",
       "2021-07-01  1041937900    0.009081  \n",
       "\n",
       "[375 rows x 7 columns]"
      ]
     },
     "execution_count": 17,
     "metadata": {},
     "output_type": "execute_result"
    }
   ],
   "source": [
    "jkse"
   ]
  },
  {
   "cell_type": "code",
   "execution_count": 20,
   "id": "2fdeb12d-d018-4374-acb8-b1c1d907ff53",
   "metadata": {},
   "outputs": [
    {
     "data": {
      "text/plain": [
       "Int64Index([ 5,  6,  7,  8,  9, 10, 11, 12,  1,  2,\n",
       "            ...\n",
       "            10, 11, 12,  1,  2,  3,  4,  5,  6,  7],\n",
       "           dtype='int64', name='Date', length=375)"
      ]
     },
     "execution_count": 20,
     "metadata": {},
     "output_type": "execute_result"
    }
   ],
   "source": [
    "jkse.index.month"
   ]
  },
  {
   "cell_type": "code",
   "execution_count": 24,
   "id": "3686d620-d017-4155-9d02-a3e17ca3f506",
   "metadata": {},
   "outputs": [
    {
     "data": {
      "text/plain": [
       "Date\n",
       "1     0.021912\n",
       "2     0.006216\n",
       "3     0.002840\n",
       "4     0.020559\n",
       "5     0.018620\n",
       "6     0.012878\n",
       "7     0.011931\n",
       "8    -0.032455\n",
       "9    -0.014563\n",
       "10    0.001425\n",
       "11    0.012203\n",
       "12    0.043907\n",
       "Name: pct_change, dtype: float64"
      ]
     },
     "execution_count": 24,
     "metadata": {},
     "output_type": "execute_result"
    }
   ],
   "source": [
    "\n",
    "jkse.groupby(by=[jkse.index.month])['pct_change'].mean()"
   ]
  },
  {
   "cell_type": "code",
   "execution_count": 23,
   "id": "a5fab997-fbc7-4578-82a7-43a2b5674b61",
   "metadata": {},
   "outputs": [
    {
     "ename": "AttributeError",
     "evalue": "'DatetimeIndex' object has no attribute 'dt'",
     "output_type": "error",
     "traceback": [
      "\u001b[1;31m---------------------------------------------------------------------------\u001b[0m",
      "\u001b[1;31mAttributeError\u001b[0m                            Traceback (most recent call last)",
      "\u001b[1;32m<ipython-input-23-d12ec6a03849>\u001b[0m in \u001b[0;36m<module>\u001b[1;34m\u001b[0m\n\u001b[1;32m----> 1\u001b[1;33m \u001b[0mjkse\u001b[0m\u001b[1;33m.\u001b[0m\u001b[0mgroupby\u001b[0m\u001b[1;33m(\u001b[0m\u001b[0mjkse\u001b[0m\u001b[1;33m.\u001b[0m\u001b[0mindex\u001b[0m\u001b[1;33m.\u001b[0m\u001b[0mdt\u001b[0m\u001b[1;33m.\u001b[0m\u001b[0mstrftime\u001b[0m\u001b[1;33m(\u001b[0m\u001b[1;34m'%B'\u001b[0m\u001b[1;33m)\u001b[0m\u001b[1;33m)\u001b[0m\u001b[1;33m[\u001b[0m\u001b[1;34m'pct_change'\u001b[0m\u001b[1;33m]\u001b[0m\u001b[1;33m.\u001b[0m\u001b[0mmean\u001b[0m\u001b[1;33m(\u001b[0m\u001b[1;33m)\u001b[0m\u001b[1;33m\u001b[0m\u001b[1;33m\u001b[0m\u001b[0m\n\u001b[0m",
      "\u001b[1;31mAttributeError\u001b[0m: 'DatetimeIndex' object has no attribute 'dt'"
     ]
    }
   ],
   "source": [
    "jkse.groupby(jkse.index.dt.strftime('%B'))['pct_change'].mean()"
   ]
  }
 ],
 "metadata": {
  "kernelspec": {
   "display_name": "Python 3",
   "language": "python",
   "name": "python3"
  },
  "language_info": {
   "codemirror_mode": {
    "name": "ipython",
    "version": 3
   },
   "file_extension": ".py",
   "mimetype": "text/x-python",
   "name": "python",
   "nbconvert_exporter": "python",
   "pygments_lexer": "ipython3",
   "version": "3.7.10"
  }
 },
 "nbformat": 4,
 "nbformat_minor": 5
}
