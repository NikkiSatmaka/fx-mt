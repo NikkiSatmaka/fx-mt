{
 "cells": [
  {
   "cell_type": "code",
   "execution_count": 1,
   "metadata": {},
   "outputs": [],
   "source": [
    "import numpy as np\n",
    "import pandas as pd\n",
    "import vectorbt as vbt"
   ]
  },
  {
   "cell_type": "code",
   "execution_count": 2,
   "metadata": {},
   "outputs": [],
   "source": [
    "split_kwargs = dict(\n",
    "    n=30, \n",
    "    window_len=365 * 2, \n",
    "    set_lens=(180,), \n",
    "    left_to_right=False\n",
    ")  # 30 windows, each 2 years long, reserve 180 days for test\n",
    "pf_kwargs = dict(\n",
    "    direction='all',  # long and short\n",
    "    freq='d'\n",
    ")\n",
    "windows = np.arange(10, 50)"
   ]
  },
  {
   "cell_type": "code",
   "execution_count": 3,
   "metadata": {},
   "outputs": [],
   "source": [
    "price = vbt.YFData.download('BTC-USD').get('Close')"
   ]
  },
  {
   "cell_type": "code",
   "execution_count": 4,
   "metadata": {},
   "outputs": [
    {
     "name": "stdout",
     "output_type": "stream",
     "text": [
      "Date\n",
      "2014-09-17 00:00:00+00:00      457.334015\n",
      "2014-09-18 00:00:00+00:00      424.440002\n",
      "2014-09-19 00:00:00+00:00      394.795990\n",
      "2014-09-20 00:00:00+00:00      408.903992\n",
      "2014-09-21 00:00:00+00:00      398.821014\n",
      "                                 ...     \n",
      "2021-06-22 00:00:00+00:00    32505.660156\n",
      "2021-06-23 00:00:00+00:00    33723.027344\n",
      "2021-06-24 00:00:00+00:00    34662.437500\n",
      "2021-06-25 00:00:00+00:00    31637.779297\n",
      "2021-06-26 00:00:00+00:00    31375.220703\n",
      "Name: Close, Length: 2471, dtype: float64\n"
     ]
    }
   ],
   "source": [
    "print(price)"
   ]
  },
  {
   "cell_type": "code",
   "execution_count": 5,
   "metadata": {},
   "outputs": [
    {
     "data": {
      "image/svg+xml": [
       "<svg class=\"main-svg\" xmlns=\"http://www.w3.org/2000/svg\" xmlns:xlink=\"http://www.w3.org/1999/xlink\" width=\"700\" height=\"350\" style=\"\" viewBox=\"0 0 700 350\"><rect x=\"0\" y=\"0\" width=\"700\" height=\"350\" style=\"fill: rgb(255, 255, 255); fill-opacity: 1;\"/><defs id=\"defs-082ad3\"><g class=\"clips\"><clipPath id=\"clip082ad3xyplot\" class=\"plotclip\"><rect width=\"635\" height=\"274\"/></clipPath><clipPath class=\"axesclip\" id=\"clip082ad3x\"><rect x=\"35\" y=\"0\" width=\"635\" height=\"350\"/></clipPath><clipPath class=\"axesclip\" id=\"clip082ad3y\"><rect x=\"0\" y=\"46\" width=\"700\" height=\"274\"/></clipPath><clipPath class=\"axesclip\" id=\"clip082ad3xy\"><rect x=\"35\" y=\"46\" width=\"635\" height=\"274\"/></clipPath></g><g class=\"gradients\"/></defs><g class=\"bglayer\"><rect class=\"bg\" x=\"35\" y=\"46\" width=\"635\" height=\"274\" style=\"fill: rgb(229, 236, 246); fill-opacity: 1; stroke-width: 0;\"/></g><g class=\"layer-below\"><g class=\"imagelayer\"/><g class=\"shapelayer\"/></g><g class=\"cartesianlayer\"><g class=\"subplot xy\"><g class=\"layer-subplot\"><g class=\"shapelayer\"/><g class=\"imagelayer\"/></g><g class=\"gridlayer\"><g class=\"x\"><path class=\"xgrid crisp\" transform=\"translate(62.21,0)\" d=\"M0,46v274\" style=\"stroke: rgb(255, 255, 255); stroke-opacity: 1; stroke-width: 1px;\"/><path class=\"xgrid crisp\" transform=\"translate(155.89,0)\" d=\"M0,46v274\" style=\"stroke: rgb(255, 255, 255); stroke-opacity: 1; stroke-width: 1px;\"/><path class=\"xgrid crisp\" transform=\"translate(249.83,0)\" d=\"M0,46v274\" style=\"stroke: rgb(255, 255, 255); stroke-opacity: 1; stroke-width: 1px;\"/><path class=\"xgrid crisp\" transform=\"translate(343.52,0)\" d=\"M0,46v274\" style=\"stroke: rgb(255, 255, 255); stroke-opacity: 1; stroke-width: 1px;\"/><path class=\"xgrid crisp\" transform=\"translate(437.2,0)\" d=\"M0,46v274\" style=\"stroke: rgb(255, 255, 255); stroke-opacity: 1; stroke-width: 1px;\"/><path class=\"xgrid crisp\" transform=\"translate(530.89,0)\" d=\"M0,46v274\" style=\"stroke: rgb(255, 255, 255); stroke-opacity: 1; stroke-width: 1px;\"/><path class=\"xgrid crisp\" transform=\"translate(624.83,0)\" d=\"M0,46v274\" style=\"stroke: rgb(255, 255, 255); stroke-opacity: 1; stroke-width: 1px;\"/></g><g class=\"y\"><path class=\"ygrid crisp\" transform=\"translate(0,268.05)\" d=\"M35,0h635\" style=\"stroke: rgb(255, 255, 255); stroke-opacity: 1; stroke-width: 1px;\"/><path class=\"ygrid crisp\" transform=\"translate(0,229.11)\" d=\"M35,0h635\" style=\"stroke: rgb(255, 255, 255); stroke-opacity: 1; stroke-width: 1px;\"/><path class=\"ygrid crisp\" transform=\"translate(0,190.17)\" d=\"M35,0h635\" style=\"stroke: rgb(255, 255, 255); stroke-opacity: 1; stroke-width: 1px;\"/><path class=\"ygrid crisp\" transform=\"translate(0,151.23000000000002)\" d=\"M35,0h635\" style=\"stroke: rgb(255, 255, 255); stroke-opacity: 1; stroke-width: 1px;\"/><path class=\"ygrid crisp\" transform=\"translate(0,112.28)\" d=\"M35,0h635\" style=\"stroke: rgb(255, 255, 255); stroke-opacity: 1; stroke-width: 1px;\"/><path class=\"ygrid crisp\" transform=\"translate(0,73.34)\" d=\"M35,0h635\" style=\"stroke: rgb(255, 255, 255); stroke-opacity: 1; stroke-width: 1px;\"/></g></g><g class=\"zerolinelayer\"><path class=\"yzl zl crisp\" transform=\"translate(0,306.99)\" d=\"M35,0h635\" style=\"stroke: rgb(255, 255, 255); stroke-opacity: 1; stroke-width: 2px;\"/></g><path class=\"xlines-below\"/><path class=\"ylines-below\"/><g class=\"overlines-below\"/><g class=\"xaxislayer-below\"/><g class=\"yaxislayer-below\"/><g class=\"overaxes-below\"/><g class=\"plot\" transform=\"translate(35,46)\" clip-path=\"url('#clip082ad3xyplot')\"><g class=\"scatterlayer mlayer\"><g class=\"trace scatter trace88769b68-51a2-4901-b2c4-16b24513cea0\" style=\"stroke-miterlimit: 2; opacity: 1;\"><g class=\"fills\"/><g class=\"errorbars\"/><g class=\"lines\"><path class=\"js-line\" d=\"M0,259.21L1.8,259.35L2.05,259.39L9.75,259.64L10.01,259.61L38.24,260.08L38.5,259.99L40.81,260.06L41.07,260.06L59.55,260.07L59.8,260.04L75.72,259.95L75.97,259.88L81.88,259.89L82.13,259.9L89.06,260.1L89.32,260.1L103.18,259.9L103.44,259.89L124.23,259.32L124.48,259.57L127.05,259.47L127.31,259.47L151.43,259.22L151.69,259.25L163.5,258.29L163.76,258.01L167.09,258.5L167.35,258.37L175.56,258.63L175.82,258.86L178.9,258.77L179.16,258.78L184.8,258.62L185.06,258.6L188.65,258.67L188.91,258.67L205.59,258.13L205.85,258.14L214.83,257.11L215.09,257.01L215.86,257.05L216.12,257.48L229.98,256.23L230.23,256.12L231.52,256.23L231.77,256.52L233.57,256.13L233.83,256.37L234.85,256.89L235.11,256.63L236.39,257.23L236.65,256.92L242.55,256.28L242.81,256.21L245.38,255.74L245.63,255.46L248.97,253.95L249.23,254.22L250,253.64L250.25,253.25L251.54,251.48L251.79,252.02L252.05,252.42L252.31,253.05L252.56,252.6L252.82,252.21L253.08,252.52L253.33,252.09L253.59,251.62L255.9,249.51L256.16,249.47L257.18,251.4L257.44,251.19L258.47,250.39L258.72,250.52L259.75,250.91L260.01,251.34L260.78,251.11L261.03,251.33L261.8,251.01L262.06,250.86L263.34,251.19L263.6,251.75L264.63,252.3L264.88,253.21L265.14,253.48L265.4,252.32L265.91,252.14L266.17,250.02L266.42,250.6L266.94,250.36L267.19,250.27L267.71,251.14L267.96,250.59L268.22,250.05L268.73,250.26L268.99,249.8L269.5,250.44L269.76,250.07L270.02,249.72L271.04,247.68L271.3,247.98L271.56,247.83L271.81,246.78L273.1,243.95L273.35,244.13L274.38,245.41L274.64,245.03L276.95,242.68L277.2,241.94L277.97,244.5L278.23,243.95L278.49,243.09L278.74,243.08L279,244.53L280.03,244.91L280.28,245.87L280.54,248.71L281.05,246.88L281.31,247.04L281.57,245.16L282.08,245.78L282.34,246.85L283.11,246.65L283.36,245.7L283.62,245.84L283.88,244.64L284.39,244.78L284.65,244.1L285.16,243.82L285.42,244.18L285.67,244.52L287.47,242.2L287.73,239.78L288.24,238.28L288.75,238.7L289.01,239.16L289.52,238.76L289.78,237.58L290.55,237.9L290.81,239.47L292.09,237.03L292.35,237.12L293.89,232.15L294.14,233.65L294.66,231.94L294.91,233.18L295.68,237.82L295.94,235.45L296.2,235.15L296.71,230.34L297.22,230.66L297.48,229.7L298.25,228.85L298.51,229.69L299.28,224.66L299.53,222.76L301.59,214.59L301.84,205.34L302.1,191.29L302.61,201.89L302.87,200.81L303.38,193.17L303.64,197.1L303.9,196.49L304.41,185.07L304.92,186.56L305.18,191.77L305.95,207.13L306.46,206.76L306.72,206.37L306.98,198.3L307.49,204.11L307.75,203.92L308,210.56L308.52,207.81L308.77,202.65L309.29,200.25L309.54,193.12L309.8,192.74L310.06,196.83L311.08,208.79L311.34,206.55L311.6,205.07L311.85,207.36L312.11,207.18L312.62,217.42L312.88,216.31L313.14,215.79L313.39,210.76L313.65,215.82L313.91,218.42L314.16,218.67L314.42,216.76L314.93,217.49L315.19,216.44L315.45,215.1L315.7,217L315.96,221.64L316.22,221.19L316.47,225.28L317.24,228.76L317.5,233.91L318.53,226.97L318.78,227.42L319.04,229.33L320.58,217.72L320.84,219.9L321.35,216.59L321.61,219.36L321.86,222.03L322.12,220.88L322.38,222.78L322.63,223.36L323.66,218.35L323.92,217.82L324.69,215.93L324.94,219.01L325.97,226.47L326.23,223.69L327.77,230.16L328.02,228.97L328.79,226.22L329.05,227L329.31,226.41L331.62,234.34L331.87,233.41L332.13,231.96L332.39,234.3L332.64,234.47L332.9,235.15L333.16,234.08L333.41,233.64L333.67,234.63L334.18,233.86L334.44,230.27L334.95,229.89L335.21,228.56L335.72,230.22L335.98,229.2L336.24,228.69L337.52,223.23L337.78,226.55L338.8,224.31L339.06,225.01L339.32,225.48L339.57,225.03L339.83,223.05L340.6,223.4L340.86,224.49L341.63,225.77L341.88,228.12L342.65,227.05L342.91,227.85L343.42,229.47L343.94,228.88L344.19,227.84L344.71,229.68L344.96,231.56L345.48,231.86L345.73,232.35L345.99,232.3L346.25,233.2L347.27,231.63L347.53,231.23L348.04,231.73L348.3,231.27L348.56,231.19L349.33,231.66L349.58,234.57L349.84,234.1L350.1,235.36L350.35,236.27L350.61,235L350.87,235.85L351.12,235.49L351.38,235.68L351.64,234.77L352.41,234.79L352.66,237.3L353.43,236.66L353.69,237.26L353.95,237.02L354.2,238L355.23,235.24L355.49,235.57L357.03,234.74L357.28,236.34L357.54,236.09L357.8,236.74L358.05,236.7L358.57,236.23L358.82,234.74L359.59,231.92L359.85,232.36L360.62,230.97L360.88,228.19L361.39,230.03L361.65,229.2L361.9,229.09L362.42,229.14L362.67,230.7L365.24,236.91L365.5,236.48L365.75,236.37L366.78,236.33L367.04,235.37L367.81,236.43L368.06,235.73L368.32,236.16L368.58,235.55L368.83,234.82L369.6,234.18L369.86,233.36L370.63,233.59L370.89,232.98L371.66,232.33L371.91,234.54L372.68,236.75L372.94,236.46L373.2,236.34L373.71,236.26L373.97,235.61L374.74,235.61L374.99,236.53L376.53,234.86L376.79,235.31L377.05,235.89L377.3,235.7L377.56,234.99L379.36,235.38L379.61,235.2L380.9,235.35L381.15,236.63L381.92,236.5L382.18,235.31L385.52,235.73L385.77,236.33L387.83,235.83L388.08,235.56L389.62,236.23L389.88,238.65L390.65,239.36L390.91,239.09L391.16,242.02L392.45,245.88L392.7,245.38L392.96,246.28L393.22,246.12L393.47,244.41L393.73,244.33L393.99,245.35L394.24,244.58L394.5,244.87L394.76,245.83L395.01,245.58L395.27,246.37L395.53,247.28L395.78,247.68L396.04,247.46L396.3,246.92L397.84,248.39L398.09,248.33L399.12,244.89L399.38,245.82L399.63,245.36L400.15,245.11L400.4,246.14L400.66,245.97L400.92,246.76L401.17,245.71L401.69,245.94L401.94,246.42L402.97,245.97L403.23,246.02L403.48,245.12L404,245.3L404.25,245.28L405.28,247.16L405.54,246.56L406.56,246.75L406.82,246.47L407.85,247.03L408.1,246.97L411.7,247.76L411.95,246.71L414.26,246.69L414.52,245.75L415.8,244.86L416.06,246.16L417.09,245.98L417.34,245.96L420.94,245.57L421.19,245.23L423.76,245.47L424.02,245.08L425.3,244.8L425.56,241.99L427.61,240.26L427.87,241.27L430.69,239.97L430.95,239.29L431.97,240.48L432.23,240.41L432.74,240.16L433,239.95L435.31,236.15L435.57,232.94L435.82,233.84L436.08,230.56L436.59,229.04L436.85,230.29L437.11,232.4L437.36,232.68L437.62,229.07L438.39,231.09L438.65,230.3L438.9,229.89L439.16,229.64L439.42,227.22L439.67,226.7L440.19,227.27L440.44,228.6L441.21,226.95L441.47,229.03L441.73,230.98L442.24,230.53L442.5,229.67L443.01,231.05L443.27,229.84L443.52,230.12L443.78,229.27L444.04,228.94L444.29,227.14L445.83,223.89L446.09,221.49L447.37,210.31L447.63,217.45L447.89,212.68L448.14,214.42L448.4,218.87L448.66,219.78L448.91,218.93L449.17,214.41L449.68,218.24L449.94,217.35L450.2,216.4L450.71,212.03L450.97,213.65L451.22,216.76L451.48,214.98L451.74,216.63L451.99,221.05L452.25,218.57L452.51,224.09L452.76,223.24L453.02,219.46L453.53,219.06L454.05,220.72L454.3,222.44L455.84,223.92L456.1,223.58L457.64,215.02L457.9,216.3L458.41,214.39L458.67,214.8L458.92,216.78L459.18,216.12L459.44,216.67L459.69,218.56L459.95,221.85L460.46,220.59L460.72,221.15L460.98,220.71L461.23,218.48L462,221.54L462.26,220.46L462.77,221.51L463.03,220.61L463.29,221.33L463.8,223.96L464.31,223.49L464.57,222.99L465.08,219.62L465.6,219.81L465.85,220.68L466.11,220.04L466.62,220.75L466.88,221.6L468.16,220.7L468.42,220.97L469.96,221.78L470.22,223.11L470.99,229.38L471.24,228.86L471.5,228.88L471.76,229.43L472.01,228.7L472.27,228.5L472.53,228.31L472.78,228.83L473.04,229.04L473.55,229.89L473.81,228.88L474.07,228.95L474.32,227.52L474.58,227.56L474.84,228.59L475.86,229.04L476.12,229.66L477.41,228.89L477.66,229.54L478.18,231.81L478.43,227.27L478.95,223.8L479.46,224.28L479.72,225.14L480.74,225.03L481,224.34L481.77,224.9L482.03,226.71L482.28,226.67L482.54,225.73L483.57,227.08L483.82,227.92L484.34,227.59L484.59,228.64L485.11,229.73L485.36,231.23L486.13,233.55L486.39,233.17L486.65,232.88L487.42,230.77L487.67,231.52L487.93,232.08L488.7,232.75L488.96,231.99L489.73,231.54L489.98,232.17L491.27,233.25L491.52,233.14L492.04,235.13L492.29,232.66L493.06,232.99L493.32,231.74L494.35,232.8L494.6,232.6L495.37,232.59L495.63,232.98L495.89,232.95L496.14,233.79L497.43,229.2L497.68,229.53L497.94,230.31L498.71,229.09L498.97,229.28L499.99,226.22L500.25,226.17L501.53,228.26L501.79,228.11L502.05,228.41L502.3,227.52L503.33,223.96L503.59,224.58L504.36,224.8L504.61,225.24L505.9,221.6L506.15,222.61L507.18,220.84L507.44,222.48L507.69,222.31L507.95,223.26L508.21,221.5L508.46,223.48L508.72,223.58L509.49,222.35L509.75,223.41L511.03,227.51L511.29,227.65L512.31,225.64L512.57,225.47L513.85,230.19L514.11,241.64L514.37,239.33L514.88,239.99L515.14,241.47L515.65,240.59L515.91,236.88L516.42,236.91L516.68,238.29L517.19,234.77L517.7,234.84L517.96,235.8L518.47,237.93L518.73,235.95L519.24,235.27L519.5,234.54L520.27,234.55L520.53,232.68L522.32,234.34L522.58,234.35L522.84,235.13L523.09,233.28L523.61,232.73L523.86,233L524.12,234.19L524.38,234.2L524.63,233.28L525.92,230.64L526.17,230.59L527.2,225.99L527.46,226.35L527.97,225.93L528.23,224.9L528.48,222.24L529,223.63L529.25,226.89L529.51,227.5L529.77,226.71L530.02,224.89L530.28,223.09L530.79,224.48L531.05,223.33L531.56,223.11L531.82,223.91L532.85,226.76L533.1,226.31L533.36,226.59L533.62,225.24L534.39,223.22L534.64,224.15L534.9,221.4L535.41,223.39L535.67,222.83L536.18,223.4L536.44,222.99L536.7,222.94L537.21,222.56L537.47,224.69L537.98,224.1L538.24,224.44L538.49,224.19L538.75,223.85L539.26,224.34L539.52,224.82L540.03,224.76L540.29,223.42L540.55,223.49L540.8,224.72L541.57,225.77L541.83,225.39L542.09,225.2L543.63,225.66L543.88,224.48L544.91,224.86L545.17,225.01L546.19,225.2L546.45,225.43L547.73,224.49L547.99,223.9L548.76,223.31L549.02,222.42L550.04,217.72L550.3,216.9L550.56,215.2L550.81,217.95L551.07,217.2L551.33,217.36L551.58,215.25L552.87,214.74L553.12,216.56L554.66,213.27L554.92,214.3L555.69,215.85L555.95,215.5L556.2,215.57L556.46,215.14L556.72,216.73L558,215.39L558.26,215.51L558.51,214.38L558.77,216.55L559.03,221.1L559.28,220.06L559.54,221.39L559.8,220.96L560.05,220.61L560.31,221.54L560.82,220.64L561.08,220.49L561.34,220.33L561.59,220.79L561.85,219.4L563.13,217.79L563.39,218.4L564.16,221.17L564.42,219.15L565.44,219.24L565.7,218.75L566.73,219.85L566.98,219.39L567.24,218.92L567.5,219.63L567.75,219.41L568.01,218.46L568.78,216.66L569.55,216.49L570.83,215.27L571.09,214.59L572.12,209.95L572.37,210.25L572.63,210.08L572.89,207.82L573.14,209.31L573.66,208.24L573.91,207.33L574.43,208.23L574.68,206.67L574.94,205.95L575.2,200.32L575.45,200.38L575.71,203.23L576.99,197.61L577.25,197.45L577.76,198.86L578.02,195.9L579.3,188.4L579.56,189.46L579.82,189.48L580.07,186.59L580.33,188.05L580.59,194.21L580.84,194.37L581.1,192L581.61,184.57L581.87,187.77L582.13,186.22L582.38,185.27L582.64,188.17L583.15,185.66L583.41,186.26L583.67,189.65L583.92,188.74L584.18,189.87L584.44,190.67L586.49,168.04L586.75,169.57L587,172.19L588.8,155.52L589.06,154.44L590.34,133.33L590.6,136.49L591.62,102.12L591.88,104.24L592.14,111.63L592.65,128.89L592.91,115.68L593.16,108.39L593.93,121.62L594.19,118.35L594.45,120.53L594.7,122.56L594.96,140.95L595.22,132.46L595.73,135.25L595.99,134.95L596.24,134.16L596.5,142.48L597.01,127.36L597.27,127.54L597.53,132.04L597.78,130.39L598.04,122.71L599.07,108.08L599.32,109.5L600.35,74.43L600.61,76L600.86,77.56L601.12,71.28L601.38,74.29L601.63,69.4L601.89,57.92L602.15,59.74L602.4,43.36L602.66,42.53L602.92,36.92L604.2,80.54L604.46,81.13L604.71,85.22L604.97,67.72L605.23,72.6L605.48,64.19L605.74,71.89L606,70.46L606.25,70.52L606.51,61.59L607.54,35.89L607.79,37.73L608.05,22.5L608.56,43.28L608.82,39.79L609.08,31.74L611.13,59.65L611.39,46.28L613.18,29.74L613.44,36.67L613.95,31.01L614.21,34.38L614.47,42.73L615.49,26.54L615.75,27.76L616.01,13.7L616.52,14.44L616.78,21.22L617.03,24.68L617.29,42.08L617.55,43.99L617.8,41.08L618.06,51.07L619.09,70.16L619.34,50.62L619.6,46.68L619.86,47.5L620.11,52.44L620.63,35.8L620.88,40.46L621.14,38.25L621.4,53.3L621.65,37.37L621.91,41.38L622.17,37.64L622.42,32L622.68,34.23L622.94,43.47L623.19,40.18L623.45,69.59L623.96,66.75L624.22,78.9L624.48,80.09L624.73,91.45L624.99,93.9L625.25,116.9L625.5,102.18L626.02,114.82L626.27,125.59L627.04,107.98L627.3,111.31L627.81,126.19L628.07,122.06L628.33,115.61L628.58,118.14L628.84,114.67L629.1,108.31L630.38,130.65L630.64,115.57L631.41,122.55L631.66,108.74L632.18,103.64L632.43,111.66L632.69,112.81L632.95,121.63L633.2,122.3L633.46,121.98L633.72,137.64L634.49,126.01L634.74,137.79L635,138.81\" style=\"vector-effect: non-scaling-stroke; fill: none; stroke: rgb(31, 119, 180); stroke-opacity: 1; stroke-width: 2px; opacity: 1;\"/></g><g class=\"points\"/><g class=\"text\"/></g></g></g><g class=\"overplot\"/><path class=\"xlines-above crisp\" d=\"M0,0\" style=\"fill: none;\"/><path class=\"ylines-above crisp\" d=\"M0,0\" style=\"fill: none;\"/><g class=\"overlines-above\"/><g class=\"xaxislayer-above\"><g class=\"xtick\"><text text-anchor=\"middle\" x=\"0\" y=\"333\" transform=\"translate(62.21,0)\" style=\"font-family: 'Open Sans', verdana, arial, sans-serif; font-size: 12px; fill: rgb(42, 63, 95); fill-opacity: 1; white-space: pre;\">2015</text></g><g class=\"xtick\"><text text-anchor=\"middle\" x=\"0\" y=\"333\" transform=\"translate(155.89,0)\" style=\"font-family: 'Open Sans', verdana, arial, sans-serif; font-size: 12px; fill: rgb(42, 63, 95); fill-opacity: 1; white-space: pre;\">2016</text></g><g class=\"xtick\"><text text-anchor=\"middle\" x=\"0\" y=\"333\" transform=\"translate(249.83,0)\" style=\"font-family: 'Open Sans', verdana, arial, sans-serif; font-size: 12px; fill: rgb(42, 63, 95); fill-opacity: 1; white-space: pre;\">2017</text></g><g class=\"xtick\"><text text-anchor=\"middle\" x=\"0\" y=\"333\" transform=\"translate(343.52,0)\" style=\"font-family: 'Open Sans', verdana, arial, sans-serif; font-size: 12px; fill: rgb(42, 63, 95); fill-opacity: 1; white-space: pre;\">2018</text></g><g class=\"xtick\"><text text-anchor=\"middle\" x=\"0\" y=\"333\" transform=\"translate(437.2,0)\" style=\"font-family: 'Open Sans', verdana, arial, sans-serif; font-size: 12px; fill: rgb(42, 63, 95); fill-opacity: 1; white-space: pre;\">2019</text></g><g class=\"xtick\"><text text-anchor=\"middle\" x=\"0\" y=\"333\" transform=\"translate(530.89,0)\" style=\"font-family: 'Open Sans', verdana, arial, sans-serif; font-size: 12px; fill: rgb(42, 63, 95); fill-opacity: 1; white-space: pre;\">2020</text></g><g class=\"xtick\"><text text-anchor=\"middle\" x=\"0\" y=\"333\" transform=\"translate(624.83,0)\" style=\"font-family: 'Open Sans', verdana, arial, sans-serif; font-size: 12px; fill: rgb(42, 63, 95); fill-opacity: 1; white-space: pre;\">2021</text></g></g><g class=\"yaxislayer-above\"><g class=\"ytick\"><text text-anchor=\"end\" x=\"34\" y=\"4.199999999999999\" transform=\"translate(0,306.99)\" style=\"font-family: 'Open Sans', verdana, arial, sans-serif; font-size: 12px; fill: rgb(42, 63, 95); fill-opacity: 1; white-space: pre;\">0</text></g><g class=\"ytick\"><text text-anchor=\"end\" x=\"34\" y=\"4.199999999999999\" transform=\"translate(0,268.05)\" style=\"font-family: 'Open Sans', verdana, arial, sans-serif; font-size: 12px; fill: rgb(42, 63, 95); fill-opacity: 1; white-space: pre;\">10k</text></g><g class=\"ytick\"><text text-anchor=\"end\" x=\"34\" y=\"4.199999999999999\" transform=\"translate(0,229.11)\" style=\"font-family: 'Open Sans', verdana, arial, sans-serif; font-size: 12px; fill: rgb(42, 63, 95); fill-opacity: 1; white-space: pre;\">20k</text></g><g class=\"ytick\"><text text-anchor=\"end\" x=\"34\" y=\"4.199999999999999\" transform=\"translate(0,190.17)\" style=\"font-family: 'Open Sans', verdana, arial, sans-serif; font-size: 12px; fill: rgb(42, 63, 95); fill-opacity: 1; white-space: pre;\">30k</text></g><g class=\"ytick\"><text text-anchor=\"end\" x=\"34\" y=\"4.199999999999999\" transform=\"translate(0,151.23000000000002)\" style=\"font-family: 'Open Sans', verdana, arial, sans-serif; font-size: 12px; fill: rgb(42, 63, 95); fill-opacity: 1; white-space: pre;\">40k</text></g><g class=\"ytick\"><text text-anchor=\"end\" x=\"34\" y=\"4.199999999999999\" transform=\"translate(0,112.28)\" style=\"font-family: 'Open Sans', verdana, arial, sans-serif; font-size: 12px; fill: rgb(42, 63, 95); fill-opacity: 1; white-space: pre;\">50k</text></g><g class=\"ytick\"><text text-anchor=\"end\" x=\"34\" y=\"4.199999999999999\" transform=\"translate(0,73.34)\" style=\"font-family: 'Open Sans', verdana, arial, sans-serif; font-size: 12px; fill: rgb(42, 63, 95); fill-opacity: 1; white-space: pre;\">60k</text></g></g><g class=\"overaxes-above\"/></g></g><g class=\"polarlayer\"/><g class=\"ternarylayer\"/><g class=\"geolayer\"/><g class=\"funnelarealayer\"/><g class=\"pielayer\"/><g class=\"treemaplayer\"/><g class=\"sunburstlayer\"/><g class=\"glimages\"/><defs id=\"topdefs-082ad3\"><g class=\"clips\"/><clipPath id=\"legend082ad3\"><rect width=\"78\" height=\"29\" x=\"0\" y=\"0\"/></clipPath></defs><g class=\"layer-above\"><g class=\"imagelayer\"/><g class=\"shapelayer\"/></g><g class=\"infolayer\"><g class=\"legend\" pointer-events=\"all\" transform=\"translate(592,11.519999999999996)\"><rect class=\"bg\" shape-rendering=\"crispEdges\" style=\"stroke: rgb(68, 68, 68); stroke-opacity: 1; fill: rgb(255, 255, 255); fill-opacity: 1; stroke-width: 0px;\" width=\"78\" height=\"29\" x=\"0\" y=\"0\"/><g class=\"scrollbox\" transform=\"\" clip-path=\"url('#legend082ad3')\"><g class=\"groups\"><g class=\"traces\" transform=\"translate(0,14.5)\" style=\"opacity: 1;\"><text class=\"legendtext\" text-anchor=\"start\" x=\"40\" y=\"4.680000000000001\" style=\"font-family: 'Open Sans', verdana, arial, sans-serif; font-size: 12px; fill: rgb(42, 63, 95); fill-opacity: 1; white-space: pre;\">Close</text><g class=\"layers\" style=\"opacity: 1;\"><g class=\"legendfill\"/><g class=\"legendlines\"><path class=\"js-line\" d=\"M5,0h30\" style=\"fill: none; stroke: rgb(31, 119, 180); stroke-opacity: 1; stroke-width: 2px;\"/></g><g class=\"legendsymbols\"><g class=\"legendpoints\"/></g></g><rect class=\"legendtoggle\" x=\"0\" y=\"-9.5\" width=\"74.859375\" height=\"19\" style=\"fill: rgb(0, 0, 0); fill-opacity: 0;\"/></g></g></g><rect class=\"scrollbar\" rx=\"20\" ry=\"3\" width=\"0\" height=\"0\" style=\"fill: rgb(128, 139, 164); fill-opacity: 1;\" x=\"0\" y=\"0\"/></g><g class=\"g-gtitle\"/><g class=\"g-xtitle\"/><g class=\"g-ytitle\"/></g></svg>"
      ]
     },
     "metadata": {},
     "output_type": "display_data"
    }
   ],
   "source": [
    "price.vbt.plot().show_svg()"
   ]
  },
  {
   "cell_type": "code",
   "execution_count": 6,
   "metadata": {},
   "outputs": [],
   "source": [
    "def roll_in_and_out_samples(price, **kwargs):\n",
    "    return price.vbt.rolling_split(**kwargs)"
   ]
  },
  {
   "cell_type": "code",
   "execution_count": 7,
   "metadata": {},
   "outputs": [
    {
     "data": {
      "image/svg+xml": [
       "<svg class=\"main-svg\" xmlns=\"http://www.w3.org/2000/svg\" xmlns:xlink=\"http://www.w3.org/1999/xlink\" width=\"700\" height=\"216\" style=\"\" viewBox=\"0 0 700 216\"><rect x=\"0\" y=\"0\" width=\"700\" height=\"216\" style=\"fill: rgb(255, 255, 255); fill-opacity: 1;\"/><defs id=\"defs-c285b4\"><g class=\"clips\"><clipPath id=\"clipc285b4xyplot\" class=\"plotclip\"><rect width=\"640\" height=\"142\"/></clipPath><clipPath class=\"axesclip\" id=\"clipc285b4x\"><rect x=\"30\" y=\"0\" width=\"640\" height=\"216\"/></clipPath><clipPath class=\"axesclip\" id=\"clipc285b4y\"><rect x=\"0\" y=\"44\" width=\"700\" height=\"142\"/></clipPath><clipPath class=\"axesclip\" id=\"clipc285b4xy\"><rect x=\"30\" y=\"44\" width=\"640\" height=\"142\"/></clipPath></g><g class=\"gradients\"><linearGradient x1=\"1\" x2=\"0\" y1=\"0\" y2=\"0\" id=\"gc285b4-legendfill-d1d16450-ae85-4c76-9e3b-ab1b69a789b7\"><stop offset=\"0%\" stop-color=\"rgb(31, 119, 180)\" stop-opacity=\"1\"/><stop offset=\"100%\" stop-color=\"rgb(31, 119, 180)\" stop-opacity=\"1\"/></linearGradient><linearGradient x1=\"1\" x2=\"0\" y1=\"0\" y2=\"0\" id=\"gc285b4-legendfill-c2f616fe-989e-44e2-8614-a40739fb8272\"><stop offset=\"0%\" stop-color=\"rgb(255, 127, 14)\" stop-opacity=\"1\"/><stop offset=\"100%\" stop-color=\"rgb(255, 127, 14)\" stop-opacity=\"1\"/></linearGradient></g></defs><g class=\"bglayer\"><rect class=\"bg\" x=\"30\" y=\"44\" width=\"640\" height=\"142\" style=\"fill: rgb(229, 236, 246); fill-opacity: 1; stroke-width: 0;\"/></g><g class=\"layer-below\"><g class=\"imagelayer\"/><g class=\"shapelayer\"/></g><g class=\"cartesianlayer\"><g class=\"subplot xy\"><g class=\"layer-subplot\"><g class=\"shapelayer\"/><g class=\"imagelayer\"/></g><g class=\"gridlayer\"><g class=\"x\"><path class=\"xgrid crisp\" transform=\"translate(57.54,0)\" d=\"M0,44v142\" style=\"stroke: rgb(255, 255, 255); stroke-opacity: 1; stroke-width: 1px;\"/><path class=\"xgrid crisp\" transform=\"translate(151.92000000000002,0)\" d=\"M0,44v142\" style=\"stroke: rgb(255, 255, 255); stroke-opacity: 1; stroke-width: 1px;\"/><path class=\"xgrid crisp\" transform=\"translate(246.57,0)\" d=\"M0,44v142\" style=\"stroke: rgb(255, 255, 255); stroke-opacity: 1; stroke-width: 1px;\"/><path class=\"xgrid crisp\" transform=\"translate(340.95,0)\" d=\"M0,44v142\" style=\"stroke: rgb(255, 255, 255); stroke-opacity: 1; stroke-width: 1px;\"/><path class=\"xgrid crisp\" transform=\"translate(435.33,0)\" d=\"M0,44v142\" style=\"stroke: rgb(255, 255, 255); stroke-opacity: 1; stroke-width: 1px;\"/><path class=\"xgrid crisp\" transform=\"translate(529.72,0)\" d=\"M0,44v142\" style=\"stroke: rgb(255, 255, 255); stroke-opacity: 1; stroke-width: 1px;\"/><path class=\"xgrid crisp\" transform=\"translate(624.36,0)\" d=\"M0,44v142\" style=\"stroke: rgb(255, 255, 255); stroke-opacity: 1; stroke-width: 1px;\"/></g><g class=\"y\"><path class=\"ygrid crisp\" transform=\"translate(0,183.63)\" d=\"M30,0h640\" style=\"stroke: rgb(255, 255, 255); stroke-opacity: 1; stroke-width: 1px;\"/><path class=\"ygrid crisp\" transform=\"translate(0,164.7)\" d=\"M30,0h640\" style=\"stroke: rgb(255, 255, 255); stroke-opacity: 1; stroke-width: 1px;\"/><path class=\"ygrid crisp\" transform=\"translate(0,145.76999999999998)\" d=\"M30,0h640\" style=\"stroke: rgb(255, 255, 255); stroke-opacity: 1; stroke-width: 1px;\"/><path class=\"ygrid crisp\" transform=\"translate(0,126.83)\" d=\"M30,0h640\" style=\"stroke: rgb(255, 255, 255); stroke-opacity: 1; stroke-width: 1px;\"/><path class=\"ygrid crisp\" transform=\"translate(0,107.9)\" d=\"M30,0h640\" style=\"stroke: rgb(255, 255, 255); stroke-opacity: 1; stroke-width: 1px;\"/><path class=\"ygrid crisp\" transform=\"translate(0,88.97)\" d=\"M30,0h640\" style=\"stroke: rgb(255, 255, 255); stroke-opacity: 1; stroke-width: 1px;\"/><path class=\"ygrid crisp\" transform=\"translate(0,70.03)\" d=\"M30,0h640\" style=\"stroke: rgb(255, 255, 255); stroke-opacity: 1; stroke-width: 1px;\"/><path class=\"ygrid crisp\" transform=\"translate(0,51.1)\" d=\"M30,0h640\" style=\"stroke: rgb(255, 255, 255); stroke-opacity: 1; stroke-width: 1px;\"/></g></g><g class=\"zerolinelayer\"/><path class=\"xlines-below\"/><path class=\"ylines-below\"/><g class=\"overlines-below\"/><g class=\"xaxislayer-below\"/><g class=\"yaxislayer-below\"/><g class=\"overaxes-below\"/><g class=\"plot\" transform=\"translate(30,44)\" clip-path=\"url('#clipc285b4xyplot')\"><g class=\"heatmaplayer mlayer\"><g class=\"hm\"><image xmlns=\"http://www.w3.org/2000/svg\" preserveAspectRatio=\"none\" height=\"142\" width=\"640\" x=\"0\" y=\"0\" xlink:href=\"data:image/png;base64,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\" style=\"opacity: 1;\"/></g><g class=\"hm\"><image xmlns=\"http://www.w3.org/2000/svg\" preserveAspectRatio=\"none\" height=\"142\" width=\"640\" x=\"0\" y=\"0\" xlink:href=\"data:image/png;base64,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\" style=\"opacity: 1;\"/></g></g></g><g class=\"overplot\"/><path class=\"xlines-above crisp\" d=\"M0,0\" style=\"fill: none;\"/><path class=\"ylines-above crisp\" d=\"M0,0\" style=\"fill: none;\"/><g class=\"overlines-above\"/><g class=\"xaxislayer-above\"><g class=\"xtick\"><text text-anchor=\"middle\" x=\"0\" y=\"199\" transform=\"translate(57.54,0)\" style=\"font-family: 'Open Sans', verdana, arial, sans-serif; font-size: 12px; fill: rgb(42, 63, 95); fill-opacity: 1; white-space: pre;\">2015</text></g><g class=\"xtick\"><text text-anchor=\"middle\" x=\"0\" y=\"199\" transform=\"translate(151.92000000000002,0)\" style=\"font-family: 'Open Sans', verdana, arial, sans-serif; font-size: 12px; fill: rgb(42, 63, 95); fill-opacity: 1; white-space: pre;\">2016</text></g><g class=\"xtick\"><text text-anchor=\"middle\" x=\"0\" y=\"199\" transform=\"translate(246.57,0)\" style=\"font-family: 'Open Sans', verdana, arial, sans-serif; font-size: 12px; fill: rgb(42, 63, 95); fill-opacity: 1; white-space: pre;\">2017</text></g><g class=\"xtick\"><text text-anchor=\"middle\" x=\"0\" y=\"199\" transform=\"translate(340.95,0)\" style=\"font-family: 'Open Sans', verdana, arial, sans-serif; font-size: 12px; fill: rgb(42, 63, 95); fill-opacity: 1; white-space: pre;\">2018</text></g><g class=\"xtick\"><text text-anchor=\"middle\" x=\"0\" y=\"199\" transform=\"translate(435.33,0)\" style=\"font-family: 'Open Sans', verdana, arial, sans-serif; font-size: 12px; fill: rgb(42, 63, 95); fill-opacity: 1; white-space: pre;\">2019</text></g><g class=\"xtick\"><text text-anchor=\"middle\" x=\"0\" y=\"199\" transform=\"translate(529.72,0)\" style=\"font-family: 'Open Sans', verdana, arial, sans-serif; font-size: 12px; fill: rgb(42, 63, 95); fill-opacity: 1; white-space: pre;\">2020</text></g><g class=\"xtick\"><text text-anchor=\"middle\" x=\"0\" y=\"199\" transform=\"translate(624.36,0)\" style=\"font-family: 'Open Sans', verdana, arial, sans-serif; font-size: 12px; fill: rgb(42, 63, 95); fill-opacity: 1; white-space: pre;\">2021</text></g></g><g class=\"yaxislayer-above\"><g class=\"ytick\"><text text-anchor=\"end\" x=\"29\" y=\"4.199999999999999\" transform=\"translate(0,183.63)\" style=\"font-family: 'Open Sans', verdana, arial, sans-serif; font-size: 12px; fill: rgb(42, 63, 95); fill-opacity: 1; white-space: pre;\">29</text></g><g class=\"ytick\"><text text-anchor=\"end\" x=\"29\" y=\"4.199999999999999\" transform=\"translate(0,164.7)\" style=\"font-family: 'Open Sans', verdana, arial, sans-serif; font-size: 12px; fill: rgb(42, 63, 95); fill-opacity: 1; white-space: pre;\">25</text></g><g class=\"ytick\"><text text-anchor=\"end\" x=\"29\" y=\"4.199999999999999\" transform=\"translate(0,145.76999999999998)\" style=\"font-family: 'Open Sans', verdana, arial, sans-serif; font-size: 12px; fill: rgb(42, 63, 95); fill-opacity: 1; white-space: pre;\">21</text></g><g class=\"ytick\"><text text-anchor=\"end\" x=\"29\" y=\"4.199999999999999\" transform=\"translate(0,126.83)\" style=\"font-family: 'Open Sans', verdana, arial, sans-serif; font-size: 12px; fill: rgb(42, 63, 95); fill-opacity: 1; white-space: pre;\">17</text></g><g class=\"ytick\"><text text-anchor=\"end\" x=\"29\" y=\"4.199999999999999\" transform=\"translate(0,107.9)\" style=\"font-family: 'Open Sans', verdana, arial, sans-serif; font-size: 12px; fill: rgb(42, 63, 95); fill-opacity: 1; white-space: pre;\">13</text></g><g class=\"ytick\"><text text-anchor=\"end\" x=\"29\" y=\"4.199999999999999\" transform=\"translate(0,88.97)\" style=\"font-family: 'Open Sans', verdana, arial, sans-serif; font-size: 12px; fill: rgb(42, 63, 95); fill-opacity: 1; white-space: pre;\">9</text></g><g class=\"ytick\"><text text-anchor=\"end\" x=\"29\" y=\"4.199999999999999\" transform=\"translate(0,70.03)\" style=\"font-family: 'Open Sans', verdana, arial, sans-serif; font-size: 12px; fill: rgb(42, 63, 95); fill-opacity: 1; white-space: pre;\">5</text></g><g class=\"ytick\"><text text-anchor=\"end\" x=\"29\" y=\"4.199999999999999\" transform=\"translate(0,51.1)\" style=\"font-family: 'Open Sans', verdana, arial, sans-serif; font-size: 12px; fill: rgb(42, 63, 95); fill-opacity: 1; white-space: pre;\">1</text></g></g><g class=\"overaxes-above\"/></g></g><g class=\"polarlayer\"/><g class=\"ternarylayer\"/><g class=\"geolayer\"/><g class=\"funnelarealayer\"/><g class=\"pielayer\"/><g class=\"treemaplayer\"/><g class=\"sunburstlayer\"/><g class=\"glimages\"/><defs id=\"topdefs-c285b4\"><g class=\"clips\"/><clipPath id=\"legendc285b4\"><rect width=\"218\" height=\"29\" x=\"0\" y=\"0\"/></clipPath></defs><g class=\"layer-above\"><g class=\"imagelayer\"/><g class=\"shapelayer\"/></g><g class=\"infolayer\"><g class=\"legend\" pointer-events=\"all\" transform=\"translate(452,12.159999999999997)\"><rect class=\"bg\" shape-rendering=\"crispEdges\" style=\"stroke: rgb(68, 68, 68); stroke-opacity: 1; fill: rgb(255, 255, 255); fill-opacity: 1; stroke-width: 0px;\" width=\"218\" height=\"29\" x=\"0\" y=\"0\"/><g class=\"scrollbox\" transform=\"\" clip-path=\"url('#legendc285b4')\"><g class=\"groups\"><g class=\"traces\" transform=\"translate(0,14.5)\" style=\"opacity: 1;\"><text class=\"legendtext\" text-anchor=\"start\" x=\"40\" y=\"4.680000000000001\" style=\"font-family: 'Open Sans', verdana, arial, sans-serif; font-size: 12px; fill: rgb(42, 63, 95); fill-opacity: 1; white-space: pre;\">in-sample</text><g class=\"layers\" style=\"opacity: 1;\"><g class=\"legendfill\"/><g class=\"legendlines\"/><g class=\"legendsymbols\"><g class=\"legendpoints\"><path class=\"legend3dandfriends\" transform=\"translate(20,0)\" d=\"M-15,-2V4H15V-2Z\" style=\"stroke-miterlimit: 1; fill: url('#gc285b4-legendfill-d1d16450-ae85-4c76-9e3b-ab1b69a789b7');\"/></g></g></g><rect class=\"legendtoggle\" x=\"0\" y=\"-9.5\" width=\"101.890625\" height=\"19\" style=\"fill: rgb(0, 0, 0); fill-opacity: 0;\"/></g><g class=\"traces\" transform=\"translate(104.390625,14.5)\" style=\"opacity: 1;\"><text class=\"legendtext\" text-anchor=\"start\" x=\"40\" y=\"4.680000000000001\" style=\"font-family: 'Open Sans', verdana, arial, sans-serif; font-size: 12px; fill: rgb(42, 63, 95); fill-opacity: 1; white-space: pre;\">out-sample</text><g class=\"layers\" style=\"opacity: 1;\"><g class=\"legendfill\"/><g class=\"legendlines\"/><g class=\"legendsymbols\"><g class=\"legendpoints\"><path class=\"legend3dandfriends\" transform=\"translate(20,0)\" d=\"M-15,-2V4H15V-2Z\" style=\"stroke-miterlimit: 1; fill: url('#gc285b4-legendfill-c2f616fe-989e-44e2-8614-a40739fb8272');\"/></g></g></g><rect class=\"legendtoggle\" x=\"0\" y=\"-9.5\" width=\"110.609375\" height=\"19\" style=\"fill: rgb(0, 0, 0); fill-opacity: 0;\"/></g></g></g><rect class=\"scrollbar\" rx=\"20\" ry=\"3\" width=\"0\" height=\"0\" style=\"fill: rgb(128, 139, 164); fill-opacity: 1;\" x=\"0\" y=\"0\"/></g><g class=\"g-gtitle\"/><g class=\"g-xtitle\"/><g class=\"g-ytitle\"/></g></svg>"
      ]
     },
     "metadata": {},
     "output_type": "display_data"
    }
   ],
   "source": [
    "roll_in_and_out_samples(price, **split_kwargs, plot=True, trace_names=['in-sample', 'out-sample']).show_svg()"
   ]
  },
  {
   "cell_type": "code",
   "execution_count": 8,
   "metadata": {},
   "outputs": [
    {
     "name": "stdout",
     "output_type": "stream",
     "text": [
      "(550, 30) 30\n",
      "(180, 30) 30\n"
     ]
    }
   ],
   "source": [
    "(in_price, in_indexes), (out_price, out_indexes) = roll_in_and_out_samples(price, **split_kwargs)\n",
    "\n",
    "print(in_price.shape, len(in_indexes))  # in-sample\n",
    "print(out_price.shape, len(out_indexes))  # out-sample"
   ]
  },
  {
   "cell_type": "code",
   "execution_count": 9,
   "metadata": {},
   "outputs": [],
   "source": [
    "def simulate_holding(price, **kwargs):\n",
    "    pf = vbt.Portfolio.from_holding(price, **kwargs)\n",
    "    return pf.sharpe_ratio()"
   ]
  },
  {
   "cell_type": "code",
   "execution_count": 10,
   "metadata": {},
   "outputs": [
    {
     "name": "stdout",
     "output_type": "stream",
     "text": [
      "split_idx\n",
      "0     0.190421\n",
      "1     0.404430\n",
      "2     1.348004\n",
      "3     0.970856\n",
      "4     1.352216\n",
      "5     1.267787\n",
      "6     1.896074\n",
      "7     1.971474\n",
      "8     1.832473\n",
      "9     2.214063\n",
      "10    2.401483\n",
      "11    2.451095\n",
      "12    2.041640\n",
      "13    1.902848\n",
      "14    1.427105\n",
      "15    1.343899\n",
      "16    1.227558\n",
      "17    0.615644\n",
      "18    0.262678\n",
      "19    0.245356\n",
      "20    0.205917\n",
      "21    0.203767\n",
      "22    0.278368\n",
      "23    0.407743\n",
      "24    0.440573\n",
      "25    0.553782\n",
      "26    0.959667\n",
      "27    1.131913\n",
      "28    1.029457\n",
      "29    0.999829\n",
      "Name: sharpe_ratio, dtype: float64\n"
     ]
    }
   ],
   "source": [
    "in_hold_sharpe = simulate_holding(in_price, **pf_kwargs)\n",
    "\n",
    "print(in_hold_sharpe)"
   ]
  },
  {
   "cell_type": "code",
   "execution_count": 11,
   "metadata": {},
   "outputs": [],
   "source": [
    "def simulate_all_params(price, windows, **kwargs):\n",
    "    fast_ma, slow_ma = vbt.MA.run_combs(price, windows, r=2, short_names=['fast', 'slow'])\n",
    "    entries = fast_ma.ma_above(slow_ma, crossover=True)\n",
    "    exits = fast_ma.ma_below(slow_ma, crossover=True)\n",
    "    pf = vbt.Portfolio.from_signals(price, entries, exits, **kwargs)\n",
    "    return pf.sharpe_ratio()"
   ]
  },
  {
   "cell_type": "code",
   "execution_count": 12,
   "metadata": {},
   "outputs": [
    {
     "name": "stdout",
     "output_type": "stream",
     "text": [
      "fast_window  slow_window  split_idx\n",
      "10           11           0            0.711982\n",
      "                          1            0.887738\n",
      "                          2            0.355745\n",
      "                          3            0.297357\n",
      "                          4            0.555029\n",
      "                                         ...   \n",
      "48           49           25          -0.194479\n",
      "                          26          -0.004112\n",
      "                          27          -0.338373\n",
      "                          28          -0.904332\n",
      "                          29          -0.730023\n",
      "Name: sharpe_ratio, Length: 23400, dtype: float64\n"
     ]
    }
   ],
   "source": [
    "# Simulate all params for in-sample ranges\n",
    "in_sharpe = simulate_all_params(in_price, windows, **pf_kwargs)\n",
    "\n",
    "print(in_sharpe)"
   ]
  },
  {
   "cell_type": "code",
   "execution_count": 13,
   "metadata": {},
   "outputs": [],
   "source": [
    "def get_best_index(performance, higher_better=True):\n",
    "    if higher_better:\n",
    "        return performance[performance.groupby('split_idx').idxmax()].index\n",
    "    return performance[performance.groupby('split_idx').idxmin()].index"
   ]
  },
  {
   "cell_type": "code",
   "execution_count": 14,
   "metadata": {},
   "outputs": [
    {
     "name": "stdout",
     "output_type": "stream",
     "text": [
      "MultiIndex([(27, 29,  0),\n",
      "            (27, 29,  1),\n",
      "            (21, 25,  2),\n",
      "            (23, 25,  3),\n",
      "            (20, 41,  4),\n",
      "            (23, 25,  5),\n",
      "            (40, 43,  6),\n",
      "            (37, 43,  7),\n",
      "            (37, 43,  8),\n",
      "            (10, 21,  9),\n",
      "            (10, 21, 10),\n",
      "            (10, 21, 11),\n",
      "            (10, 22, 12),\n",
      "            (10, 21, 13),\n",
      "            (10, 21, 14),\n",
      "            (10, 22, 15),\n",
      "            (10, 22, 16),\n",
      "            (10, 22, 17),\n",
      "            (17, 22, 18),\n",
      "            (17, 22, 19),\n",
      "            (13, 21, 20),\n",
      "            (13, 21, 21),\n",
      "            (18, 21, 22),\n",
      "            (45, 49, 23),\n",
      "            (18, 21, 24),\n",
      "            (13, 21, 25),\n",
      "            (15, 18, 26),\n",
      "            (13, 20, 27),\n",
      "            (13, 20, 28),\n",
      "            (13, 20, 29)],\n",
      "           names=['fast_window', 'slow_window', 'split_idx'])\n"
     ]
    }
   ],
   "source": [
    "in_best_index = get_best_index(in_sharpe)\n",
    "\n",
    "print(in_best_index)"
   ]
  },
  {
   "cell_type": "code",
   "execution_count": 15,
   "metadata": {},
   "outputs": [],
   "source": [
    "def get_best_params(best_index, level_name):\n",
    "    return best_index.get_level_values(level_name).to_numpy()"
   ]
  },
  {
   "cell_type": "code",
   "execution_count": 16,
   "metadata": {},
   "outputs": [
    {
     "name": "stdout",
     "output_type": "stream",
     "text": [
      "[[27 29]\n",
      " [27 29]\n",
      " [21 25]\n",
      " [23 25]\n",
      " [20 41]\n",
      " [23 25]\n",
      " [40 43]\n",
      " [37 43]\n",
      " [37 43]\n",
      " [10 21]\n",
      " [10 21]\n",
      " [10 21]\n",
      " [10 22]\n",
      " [10 21]\n",
      " [10 21]\n",
      " [10 22]\n",
      " [10 22]\n",
      " [10 22]\n",
      " [17 22]\n",
      " [17 22]\n",
      " [13 21]\n",
      " [13 21]\n",
      " [18 21]\n",
      " [45 49]\n",
      " [18 21]\n",
      " [13 21]\n",
      " [15 18]\n",
      " [13 20]\n",
      " [13 20]\n",
      " [13 20]]\n"
     ]
    }
   ],
   "source": [
    "in_best_fast_windows = get_best_params(in_best_index, 'fast_window')\n",
    "in_best_slow_windows = get_best_params(in_best_index, 'slow_window')\n",
    "in_best_window_pairs = np.array(list(zip(in_best_fast_windows, in_best_slow_windows)))\n",
    "\n",
    "print(in_best_window_pairs)"
   ]
  },
  {
   "cell_type": "code",
   "execution_count": 17,
   "metadata": {},
   "outputs": [
    {
     "data": {
      "image/svg+xml": [
       "<svg class=\"main-svg\" xmlns=\"http://www.w3.org/2000/svg\" xmlns:xlink=\"http://www.w3.org/1999/xlink\" width=\"700\" height=\"350\" style=\"\" viewBox=\"0 0 700 350\"><rect x=\"0\" y=\"0\" width=\"700\" height=\"350\" style=\"fill: rgb(255, 255, 255); fill-opacity: 1;\"/><defs id=\"defs-bb2c55\"><g class=\"clips\"><clipPath id=\"clipbb2c55xyplot\" class=\"plotclip\"><rect width=\"640\" height=\"274\"/></clipPath><clipPath class=\"axesclip\" id=\"clipbb2c55x\"><rect x=\"30\" y=\"0\" width=\"640\" height=\"350\"/></clipPath><clipPath class=\"axesclip\" id=\"clipbb2c55y\"><rect x=\"0\" y=\"46\" width=\"700\" height=\"274\"/></clipPath><clipPath class=\"axesclip\" id=\"clipbb2c55xy\"><rect x=\"30\" y=\"46\" width=\"640\" height=\"274\"/></clipPath></g><g class=\"gradients\"/></defs><g class=\"bglayer\"><rect class=\"bg\" x=\"30\" y=\"46\" width=\"640\" height=\"274\" style=\"fill: rgb(229, 236, 246); fill-opacity: 1; stroke-width: 0;\"/></g><g class=\"layer-below\"><g class=\"imagelayer\"/><g class=\"shapelayer\"/></g><g class=\"cartesianlayer\"><g class=\"subplot xy\"><g class=\"layer-subplot\"><g class=\"shapelayer\"/><g class=\"imagelayer\"/></g><g class=\"gridlayer\"><g class=\"x\"><path class=\"xgrid crisp\" transform=\"translate(140.34,0)\" d=\"M0,46v274\" style=\"stroke: rgb(255, 255, 255); stroke-opacity: 1; stroke-width: 1px;\"/><path class=\"xgrid crisp\" transform=\"translate(250.69,0)\" d=\"M0,46v274\" style=\"stroke: rgb(255, 255, 255); stroke-opacity: 1; stroke-width: 1px;\"/><path class=\"xgrid crisp\" transform=\"translate(361.03,0)\" d=\"M0,46v274\" style=\"stroke: rgb(255, 255, 255); stroke-opacity: 1; stroke-width: 1px;\"/><path class=\"xgrid crisp\" transform=\"translate(471.38,0)\" d=\"M0,46v274\" style=\"stroke: rgb(255, 255, 255); stroke-opacity: 1; stroke-width: 1px;\"/><path class=\"xgrid crisp\" transform=\"translate(581.72,0)\" d=\"M0,46v274\" style=\"stroke: rgb(255, 255, 255); stroke-opacity: 1; stroke-width: 1px;\"/></g><g class=\"y\"><path class=\"ygrid crisp\" transform=\"translate(0,306.3)\" d=\"M30,0h640\" style=\"stroke: rgb(255, 255, 255); stroke-opacity: 1; stroke-width: 1px;\"/><path class=\"ygrid crisp\" transform=\"translate(0,243.07)\" d=\"M30,0h640\" style=\"stroke: rgb(255, 255, 255); stroke-opacity: 1; stroke-width: 1px;\"/><path class=\"ygrid crisp\" transform=\"translate(0,179.84)\" d=\"M30,0h640\" style=\"stroke: rgb(255, 255, 255); stroke-opacity: 1; stroke-width: 1px;\"/><path class=\"ygrid crisp\" transform=\"translate(0,116.61)\" d=\"M30,0h640\" style=\"stroke: rgb(255, 255, 255); stroke-opacity: 1; stroke-width: 1px;\"/><path class=\"ygrid crisp\" transform=\"translate(0,53.38)\" d=\"M30,0h640\" style=\"stroke: rgb(255, 255, 255); stroke-opacity: 1; stroke-width: 1px;\"/></g></g><g class=\"zerolinelayer\"><path class=\"xzl zl crisp\" transform=\"translate(30,0)\" d=\"M0,46v274\" style=\"stroke: rgb(255, 255, 255); stroke-opacity: 1; stroke-width: 2px;\"/></g><path class=\"xlines-below\"/><path class=\"ylines-below\"/><g class=\"overlines-below\"/><g class=\"xaxislayer-below\"/><g class=\"yaxislayer-below\"/><g class=\"overaxes-below\"/><g class=\"plot\" transform=\"translate(30,46)\" clip-path=\"url('#clipbb2c55xyplot')\"><g class=\"scatterlayer mlayer\"><g class=\"trace scatter tracebe41f801-e5dd-43dd-9a8f-5d899d1baf1e\" style=\"stroke-miterlimit: 2; opacity: 1;\"><g class=\"fills\"/><g class=\"errorbars\"/><g class=\"lines\"><path class=\"js-line\" d=\"M0,152.81L22.07,152.81L44.14,190.75L66.21,178.1L88.28,197.07L110.34,178.1L132.41,70.61L154.48,89.58L176.55,89.58L198.62,260.3L220.69,260.3L375.17,260.3L397.24,216.04L419.31,216.04L441.38,241.33L463.45,241.33L485.52,209.72L507.59,38.99L529.66,209.72L551.72,241.33L573.79,228.68L595.86,241.33L617.93,241.33L640,241.33\" style=\"vector-effect: non-scaling-stroke; fill: none; stroke: rgb(31, 119, 180); stroke-opacity: 1; stroke-width: 2px; opacity: 1;\"/></g><g class=\"points\"/><g class=\"text\"/></g><g class=\"trace scatter tracefe5300be-7141-4dce-9ad9-cdc9933c8d39\" style=\"stroke-miterlimit: 2; opacity: 1;\"><g class=\"fills\"/><g class=\"errorbars\"/><g class=\"lines\"><path class=\"js-line\" d=\"M0,140.16L22.07,140.16L44.14,165.45L66.21,165.45L88.28,64.28L110.34,165.45L132.41,51.64L176.55,51.64L198.62,190.75L242.76,190.75L264.83,184.42L286.9,190.75L308.97,190.75L331.03,184.42L353.1,184.42L419.31,184.42L441.38,190.75L485.52,190.75L507.59,13.7L529.66,190.75L551.72,190.75L573.79,209.72L595.86,197.07L640,197.07\" style=\"vector-effect: non-scaling-stroke; fill: none; stroke: rgb(255, 127, 14); stroke-opacity: 1; stroke-width: 2px; opacity: 1;\"/></g><g class=\"points\"/><g class=\"text\"/></g></g></g><g class=\"overplot\"/><path class=\"xlines-above crisp\" d=\"M0,0\" style=\"fill: none;\"/><path class=\"ylines-above crisp\" d=\"M0,0\" style=\"fill: none;\"/><g class=\"overlines-above\"/><g class=\"xaxislayer-above\"><g class=\"xtick\"><text text-anchor=\"middle\" x=\"0\" y=\"333\" transform=\"translate(30,0)\" style=\"font-family: 'Open Sans', verdana, arial, sans-serif; font-size: 12px; fill: rgb(42, 63, 95); fill-opacity: 1; white-space: pre;\">0</text></g><g class=\"xtick\"><text text-anchor=\"middle\" x=\"0\" y=\"333\" transform=\"translate(140.34,0)\" style=\"font-family: 'Open Sans', verdana, arial, sans-serif; font-size: 12px; fill: rgb(42, 63, 95); fill-opacity: 1; white-space: pre;\">5</text></g><g class=\"xtick\"><text text-anchor=\"middle\" x=\"0\" y=\"333\" transform=\"translate(250.69,0)\" style=\"font-family: 'Open Sans', verdana, arial, sans-serif; font-size: 12px; fill: rgb(42, 63, 95); fill-opacity: 1; white-space: pre;\">10</text></g><g class=\"xtick\"><text text-anchor=\"middle\" x=\"0\" y=\"333\" transform=\"translate(361.03,0)\" style=\"font-family: 'Open Sans', verdana, arial, sans-serif; font-size: 12px; fill: rgb(42, 63, 95); fill-opacity: 1; white-space: pre;\">15</text></g><g class=\"xtick\"><text text-anchor=\"middle\" x=\"0\" y=\"333\" transform=\"translate(471.38,0)\" style=\"font-family: 'Open Sans', verdana, arial, sans-serif; font-size: 12px; fill: rgb(42, 63, 95); fill-opacity: 1; white-space: pre;\">20</text></g><g class=\"xtick\"><text text-anchor=\"middle\" x=\"0\" y=\"333\" transform=\"translate(581.72,0)\" style=\"font-family: 'Open Sans', verdana, arial, sans-serif; font-size: 12px; fill: rgb(42, 63, 95); fill-opacity: 1; white-space: pre;\">25</text></g></g><g class=\"yaxislayer-above\"><g class=\"ytick\"><text text-anchor=\"end\" x=\"29\" y=\"4.199999999999999\" transform=\"translate(0,306.3)\" style=\"font-family: 'Open Sans', verdana, arial, sans-serif; font-size: 12px; fill: rgb(42, 63, 95); fill-opacity: 1; white-space: pre;\">10</text></g><g class=\"ytick\"><text text-anchor=\"end\" x=\"29\" y=\"4.199999999999999\" transform=\"translate(0,243.07)\" style=\"font-family: 'Open Sans', verdana, arial, sans-serif; font-size: 12px; fill: rgb(42, 63, 95); fill-opacity: 1; white-space: pre;\">20</text></g><g class=\"ytick\"><text text-anchor=\"end\" x=\"29\" y=\"4.199999999999999\" transform=\"translate(0,179.84)\" style=\"font-family: 'Open Sans', verdana, arial, sans-serif; font-size: 12px; fill: rgb(42, 63, 95); fill-opacity: 1; white-space: pre;\">30</text></g><g class=\"ytick\"><text text-anchor=\"end\" x=\"29\" y=\"4.199999999999999\" transform=\"translate(0,116.61)\" style=\"font-family: 'Open Sans', verdana, arial, sans-serif; font-size: 12px; fill: rgb(42, 63, 95); fill-opacity: 1; white-space: pre;\">40</text></g><g class=\"ytick\"><text text-anchor=\"end\" x=\"29\" y=\"4.199999999999999\" transform=\"translate(0,53.38)\" style=\"font-family: 'Open Sans', verdana, arial, sans-serif; font-size: 12px; fill: rgb(42, 63, 95); fill-opacity: 1; white-space: pre;\">50</text></g></g><g class=\"overaxes-above\"/></g></g><g class=\"polarlayer\"/><g class=\"ternarylayer\"/><g class=\"geolayer\"/><g class=\"funnelarealayer\"/><g class=\"pielayer\"/><g class=\"treemaplayer\"/><g class=\"sunburstlayer\"/><g class=\"glimages\"/><defs id=\"topdefs-bb2c55\"><g class=\"clips\"/><clipPath id=\"legendbb2c55\"><rect width=\"245\" height=\"29\" x=\"0\" y=\"0\"/></clipPath></defs><g class=\"layer-above\"><g class=\"imagelayer\"/><g class=\"shapelayer\"/></g><g class=\"infolayer\"><g class=\"legend\" pointer-events=\"all\" transform=\"translate(425,11.519999999999996)\"><rect class=\"bg\" shape-rendering=\"crispEdges\" style=\"stroke: rgb(68, 68, 68); stroke-opacity: 1; fill: rgb(255, 255, 255); fill-opacity: 1; stroke-width: 0px;\" width=\"245\" height=\"29\" x=\"0\" y=\"0\"/><g class=\"scrollbox\" transform=\"\" clip-path=\"url('#legendbb2c55')\"><g class=\"groups\"><g class=\"traces\" transform=\"translate(0,14.5)\" style=\"opacity: 1;\"><text class=\"legendtext\" text-anchor=\"start\" x=\"40\" y=\"4.680000000000001\" style=\"font-family: 'Open Sans', verdana, arial, sans-serif; font-size: 12px; fill: rgb(42, 63, 95); fill-opacity: 1; white-space: pre;\">fast_window</text><g class=\"layers\" style=\"opacity: 1;\"><g class=\"legendfill\"/><g class=\"legendlines\"><path class=\"js-line\" d=\"M5,0h30\" style=\"fill: none; stroke: rgb(31, 119, 180); stroke-opacity: 1; stroke-width: 2px;\"/></g><g class=\"legendsymbols\"><g class=\"legendpoints\"/></g></g><rect class=\"legendtoggle\" x=\"0\" y=\"-9.5\" width=\"117.828125\" height=\"19\" style=\"fill: rgb(0, 0, 0); fill-opacity: 0;\"/></g><g class=\"traces\" transform=\"translate(120.328125,14.5)\" style=\"opacity: 1;\"><text class=\"legendtext\" text-anchor=\"start\" x=\"40\" y=\"4.680000000000001\" style=\"font-family: 'Open Sans', verdana, arial, sans-serif; font-size: 12px; fill: rgb(42, 63, 95); fill-opacity: 1; white-space: pre;\">slow_window</text><g class=\"layers\" style=\"opacity: 1;\"><g class=\"legendfill\"/><g class=\"legendlines\"><path class=\"js-line\" d=\"M5,0h30\" style=\"fill: none; stroke: rgb(255, 127, 14); stroke-opacity: 1; stroke-width: 2px;\"/></g><g class=\"legendsymbols\"><g class=\"legendpoints\"/></g></g><rect class=\"legendtoggle\" x=\"0\" y=\"-9.5\" width=\"122.078125\" height=\"19\" style=\"fill: rgb(0, 0, 0); fill-opacity: 0;\"/></g></g></g><rect class=\"scrollbar\" rx=\"20\" ry=\"3\" width=\"0\" height=\"0\" style=\"fill: rgb(128, 139, 164); fill-opacity: 1;\" x=\"0\" y=\"0\"/></g><g class=\"g-gtitle\"/><g class=\"g-xtitle\"/><g class=\"g-ytitle\"/></g></svg>"
      ]
     },
     "metadata": {},
     "output_type": "display_data"
    }
   ],
   "source": [
    "pd.DataFrame(in_best_window_pairs, columns=['fast_window', 'slow_window']).vbt.plot().show_svg()"
   ]
  },
  {
   "cell_type": "code",
   "execution_count": 18,
   "metadata": {},
   "outputs": [
    {
     "name": "stdout",
     "output_type": "stream",
     "text": [
      "split_idx\n",
      "0     1.473802\n",
      "1     1.742023\n",
      "2     0.909400\n",
      "3     2.507688\n",
      "4     2.718833\n",
      "5     2.987803\n",
      "6     2.684575\n",
      "7     2.843765\n",
      "8     3.198760\n",
      "9     1.623189\n",
      "10    0.958321\n",
      "11   -1.002344\n",
      "12   -0.372763\n",
      "13   -1.011973\n",
      "14   -1.190830\n",
      "15   -1.121916\n",
      "16    0.020416\n",
      "17    2.990761\n",
      "18    2.269016\n",
      "19    1.281710\n",
      "20   -0.865338\n",
      "21   -0.323114\n",
      "22    0.294102\n",
      "23    0.864560\n",
      "24    0.936738\n",
      "25    1.712049\n",
      "26    3.618405\n",
      "27    3.426252\n",
      "28    3.283306\n",
      "29    0.631778\n",
      "Name: sharpe_ratio, dtype: float64\n"
     ]
    }
   ],
   "source": [
    "out_hold_sharpe = simulate_holding(out_price, **pf_kwargs)\n",
    "\n",
    "print(out_hold_sharpe)"
   ]
  },
  {
   "cell_type": "code",
   "execution_count": 19,
   "metadata": {},
   "outputs": [
    {
     "name": "stdout",
     "output_type": "stream",
     "text": [
      "fast_window  slow_window  split_idx\n",
      "10           11           0           -0.846291\n",
      "                          1           -0.390338\n",
      "                          2            0.562146\n",
      "                          3            0.191306\n",
      "                          4            1.904757\n",
      "                                         ...   \n",
      "48           49           25          -2.405009\n",
      "                          26           1.203458\n",
      "                          27           2.961992\n",
      "                          28           2.276124\n",
      "                          29           0.186799\n",
      "Name: sharpe_ratio, Length: 23400, dtype: float64\n"
     ]
    }
   ],
   "source": [
    "# Simulate all params for out-sample ranges\n",
    "out_sharpe = simulate_all_params(out_price, windows, **pf_kwargs)\n",
    "\n",
    "print(out_sharpe)"
   ]
  },
  {
   "cell_type": "code",
   "execution_count": 20,
   "metadata": {},
   "outputs": [],
   "source": [
    "def simulate_best_params(price, best_fast_windows, best_slow_windows, **kwargs):\n",
    "    fast_ma = vbt.MA.run(price, window=best_fast_windows, per_column=True)\n",
    "    slow_ma = vbt.MA.run(price, window=best_slow_windows, per_column=True)\n",
    "    entries = fast_ma.ma_above(slow_ma, crossover=True)\n",
    "    exits = fast_ma.ma_below(slow_ma, crossover=True)\n",
    "    pf = vbt.Portfolio.from_signals(price, entries, exits, **kwargs)\n",
    "    return pf.sharpe_ratio()"
   ]
  },
  {
   "cell_type": "code",
   "execution_count": 21,
   "metadata": {},
   "outputs": [
    {
     "name": "stdout",
     "output_type": "stream",
     "text": [
      "ma_window  ma_window  split_idx\n",
      "27         29         0            0.967247\n",
      "                      1           -0.220114\n",
      "21         25         2            0.985761\n",
      "23         25         3            1.517675\n",
      "20         41         4            0.124556\n",
      "23         25         5            1.511772\n",
      "40         43         6            0.475062\n",
      "37         43         7           -0.920504\n",
      "                      8            1.174752\n",
      "10         21         9            2.531840\n",
      "                      10           1.551178\n",
      "                      11           0.864006\n",
      "           22         12           0.722613\n",
      "           21         13           0.187889\n",
      "                      14          -0.267001\n",
      "           22         15           0.756288\n",
      "                      16           1.179887\n",
      "                      17           2.051936\n",
      "17         22         18           0.944063\n",
      "                      19          -0.567705\n",
      "13         21         20          -0.477246\n",
      "                      21           1.165637\n",
      "18         21         22           1.286483\n",
      "45         49         23          -1.310142\n",
      "18         21         24          -0.250142\n",
      "13         21         25           1.714167\n",
      "15         18         26           3.752725\n",
      "13         20         27           2.805958\n",
      "                      28           0.633201\n",
      "                      29          -1.598055\n",
      "Name: sharpe_ratio, dtype: float64\n"
     ]
    }
   ],
   "source": [
    "# Use best params from in-sample ranges and simulate them for out-sample ranges\n",
    "out_test_sharpe = simulate_best_params(out_price, in_best_fast_windows, in_best_slow_windows, **pf_kwargs)\n",
    "\n",
    "print(out_test_sharpe)"
   ]
  },
  {
   "cell_type": "code",
   "execution_count": 22,
   "metadata": {},
   "outputs": [],
   "source": [
    "cv_results_df = pd.DataFrame({\n",
    "    'in_sample_hold': in_hold_sharpe.values,\n",
    "    'in_sample_median': in_sharpe.groupby('split_idx').median().values,\n",
    "    'in_sample_best': in_sharpe[in_best_index].values,\n",
    "    'out_sample_hold': out_hold_sharpe.values,\n",
    "    'out_sample_median': out_sharpe.groupby('split_idx').median().values,\n",
    "    'out_sample_test': out_test_sharpe.values\n",
    "})"
   ]
  },
  {
   "cell_type": "code",
   "execution_count": 23,
   "metadata": {},
   "outputs": [
    {
     "data": {
      "image/svg+xml": [
       "<svg class=\"main-svg\" xmlns=\"http://www.w3.org/2000/svg\" xmlns:xlink=\"http://www.w3.org/1999/xlink\" width=\"700\" height=\"350\" style=\"\" viewBox=\"0 0 700 350\"><rect x=\"0\" y=\"0\" width=\"700\" height=\"350\" style=\"fill: rgb(255, 255, 255); fill-opacity: 1;\"/><defs id=\"defs-364132\"><g class=\"clips\"><clipPath id=\"clip364132xyplot\" class=\"plotclip\"><rect width=\"640\" height=\"255\"/></clipPath><clipPath class=\"axesclip\" id=\"clip364132x\"><rect x=\"30\" y=\"0\" width=\"640\" height=\"350\"/></clipPath><clipPath class=\"axesclip\" id=\"clip364132y\"><rect x=\"0\" y=\"65\" width=\"700\" height=\"255\"/></clipPath><clipPath class=\"axesclip\" id=\"clip364132xy\"><rect x=\"30\" y=\"65\" width=\"640\" height=\"255\"/></clipPath></g><g class=\"gradients\"/></defs><g class=\"bglayer\"><rect class=\"bg\" x=\"30\" y=\"65\" width=\"640\" height=\"255\" style=\"fill: rgb(229, 236, 246); fill-opacity: 1; stroke-width: 0;\"/></g><g class=\"layer-below\"><g class=\"imagelayer\"/><g class=\"shapelayer\"/></g><g class=\"cartesianlayer\"><g class=\"subplot xy\"><g class=\"layer-subplot\"><g class=\"shapelayer\"/><g class=\"imagelayer\"/></g><g class=\"gridlayer\"><g class=\"x\"><path class=\"xgrid crisp\" transform=\"translate(140.34,0)\" d=\"M0,65v255\" style=\"stroke: rgb(255, 255, 255); stroke-opacity: 1; stroke-width: 1px;\"/><path class=\"xgrid crisp\" transform=\"translate(250.69,0)\" d=\"M0,65v255\" style=\"stroke: rgb(255, 255, 255); stroke-opacity: 1; stroke-width: 1px;\"/><path class=\"xgrid crisp\" transform=\"translate(361.03,0)\" d=\"M0,65v255\" style=\"stroke: rgb(255, 255, 255); stroke-opacity: 1; stroke-width: 1px;\"/><path class=\"xgrid crisp\" transform=\"translate(471.38,0)\" d=\"M0,65v255\" style=\"stroke: rgb(255, 255, 255); stroke-opacity: 1; stroke-width: 1px;\"/><path class=\"xgrid crisp\" transform=\"translate(581.72,0)\" d=\"M0,65v255\" style=\"stroke: rgb(255, 255, 255); stroke-opacity: 1; stroke-width: 1px;\"/></g><g class=\"y\"><path class=\"ygrid crisp\" transform=\"translate(0,281.6)\" d=\"M30,0h640\" style=\"stroke: rgb(255, 255, 255); stroke-opacity: 1; stroke-width: 1px;\"/><path class=\"ygrid crisp\" transform=\"translate(0,195.82)\" d=\"M30,0h640\" style=\"stroke: rgb(255, 255, 255); stroke-opacity: 1; stroke-width: 1px;\"/><path class=\"ygrid crisp\" transform=\"translate(0,152.93)\" d=\"M30,0h640\" style=\"stroke: rgb(255, 255, 255); stroke-opacity: 1; stroke-width: 1px;\"/><path class=\"ygrid crisp\" transform=\"translate(0,110.03999999999999)\" d=\"M30,0h640\" style=\"stroke: rgb(255, 255, 255); stroke-opacity: 1; stroke-width: 1px;\"/><path class=\"ygrid crisp\" transform=\"translate(0,67.14)\" d=\"M30,0h640\" style=\"stroke: rgb(255, 255, 255); stroke-opacity: 1; stroke-width: 1px;\"/></g></g><g class=\"zerolinelayer\"><path class=\"xzl zl crisp\" transform=\"translate(30,0)\" d=\"M0,65v255\" style=\"stroke: rgb(255, 255, 255); stroke-opacity: 1; stroke-width: 2px;\"/><path class=\"yzl zl crisp\" transform=\"translate(0,238.71)\" d=\"M30,0h640\" style=\"stroke: rgb(255, 255, 255); stroke-opacity: 1; stroke-width: 2px;\"/></g><path class=\"xlines-below\"/><path class=\"ylines-below\"/><g class=\"overlines-below\"/><g class=\"xaxislayer-below\"/><g class=\"yaxislayer-below\"/><g class=\"overaxes-below\"/><g class=\"plot\" transform=\"translate(30,65)\" clip-path=\"url('#clip364132xyplot')\"><g class=\"scatterlayer mlayer\"><g class=\"trace scatter trace0295fcf8-27c7-470d-a7f4-ab5cb0da866f\" style=\"stroke-miterlimit: 2; opacity: 1;\"><g class=\"fills\"/><g class=\"errorbars\"/><g class=\"lines\"><path class=\"js-line\" d=\"M0,165.54L22.07,156.36L44.14,115.89L66.21,132.07L88.28,115.71L110.34,119.33L132.41,92.38L154.48,89.15L176.55,95.11L198.62,78.74L220.69,70.71L242.76,68.58L264.83,86.14L286.9,92.09L308.97,112.5L331.03,116.07L353.1,121.06L375.17,147.3L397.24,162.44L419.31,163.18L441.38,164.88L463.45,164.97L485.52,161.77L507.59,156.22L529.66,154.81L551.72,149.96L573.79,132.55L595.86,125.16L617.93,129.55L640,130.82\" style=\"vector-effect: non-scaling-stroke; fill: none; stroke: rgb(31, 119, 180); stroke-opacity: 1; stroke-width: 2px; opacity: 1;\"/></g><g class=\"points\"/><g class=\"text\"/></g><g class=\"trace scatter trace0310cd36-fe36-431e-97c7-cfc56f95beef\" style=\"stroke-miterlimit: 2; opacity: 1;\"><g class=\"fills\"/><g class=\"errorbars\"/><g class=\"lines\"><path class=\"js-line\" d=\"M0,151.46L22.07,139.44L44.14,144.1L66.21,143.22L88.28,131.97L110.34,129.39L132.41,124.79L154.48,134.98L176.55,117.18L198.62,114.73L220.69,126.88L242.76,112.86L264.83,111.99L286.9,121.85L308.97,123.57L331.03,124.78L353.1,145.88L375.17,138.73L397.24,138.16L419.31,158.15L441.38,143.17L463.45,149.9L485.52,140.2L507.59,142.32L529.66,135L551.72,139.32L573.79,135.43L595.86,135.9L617.93,154.27L640,131.51\" style=\"vector-effect: non-scaling-stroke; fill: none; stroke: rgb(31, 119, 180); stroke-opacity: 1; stroke-width: 2px; opacity: 1; stroke-dasharray: 9px, 9px;\"/></g><g class=\"points\"/><g class=\"text\"/></g><g class=\"trace scatter trace0df04af6-b0ce-471d-aa00-62f522906d7f\" style=\"stroke-miterlimit: 2; opacity: 1;\"><g class=\"fills\"/><g class=\"errorbars\"/><g class=\"lines\"><path class=\"js-line\" d=\"M0,100.89L22.07,99.23L44.14,101.83L66.21,108.38L88.28,101.79L110.34,101.62L132.41,93.88L154.48,100.97L176.55,86.34L198.62,83.46L220.69,61.53L242.76,52.85L264.83,62L286.9,63.74L308.97,56.23L331.03,68.65L353.1,85.12L375.17,86.54L397.24,96.78L419.31,97.64L441.38,92.61L463.45,95.97L485.52,103.39L507.59,90.03L529.66,92.95L551.72,88.55L573.79,97.29L595.86,94.81L617.93,107.6L640,79.68\" style=\"vector-effect: non-scaling-stroke; fill: none; stroke: rgb(31, 119, 180); stroke-opacity: 1; stroke-width: 2px; opacity: 1; stroke-dasharray: 3px, 3px;\"/></g><g class=\"points\"/><g class=\"text\"/></g><g class=\"trace scatter trace4159d4cc-28ea-451b-bc6f-d8f80dce86bb\" style=\"stroke-miterlimit: 2; opacity: 1;\"><g class=\"fills\"/><g class=\"errorbars\"/><g class=\"lines\"><path class=\"js-line\" d=\"M0,110.5L22.07,98.99L44.14,134.7L66.21,66.15L88.28,57.09L110.34,45.56L132.41,58.56L154.48,51.74L176.55,36.51L198.62,104.09L220.69,132.6L242.76,216.7L264.83,189.7L286.9,217.11L308.97,224.78L331.03,221.83L353.1,172.83L375.17,45.43L397.24,76.39L419.31,118.73L441.38,210.82L463.45,187.57L485.52,161.09L507.59,136.63L529.66,133.53L551.72,100.28L573.79,18.51L595.86,26.75L617.93,32.88L640,146.61\" style=\"vector-effect: non-scaling-stroke; fill: none; stroke: rgb(255, 127, 14); stroke-opacity: 1; stroke-width: 2px; opacity: 1;\"/></g><g class=\"points\"/><g class=\"text\"/></g><g class=\"trace scatter traceaa1559f4-d7f1-4d22-b46f-ed396de009a6\" style=\"stroke-miterlimit: 2; opacity: 1;\"><g class=\"fills\"/><g class=\"errorbars\"/><g class=\"lines\"><path class=\"js-line\" d=\"M0,127.68L22.07,134.74L44.14,129.67L66.21,107.12L88.28,139.32L110.34,103.3L132.41,70.22L154.48,145.2L176.55,102.92L198.62,84.86L220.69,173.62L242.76,203.05L264.83,224.78L286.9,214.76L308.97,121.95L331.03,138.38L353.1,133.17L375.17,55.44L397.24,117.06L419.31,174.79L441.38,200.94L463.45,212.9L485.52,116.97L507.59,126.35L529.66,128.32L551.72,158.96L573.79,64.15L595.86,56.92L617.93,99.19L640,132.38\" style=\"vector-effect: non-scaling-stroke; fill: none; stroke: rgb(255, 127, 14); stroke-opacity: 1; stroke-width: 2px; opacity: 1; stroke-dasharray: 9px, 9px;\"/></g><g class=\"points\"/><g class=\"text\"/></g><g class=\"trace scatter trace5538d0f5-02d8-44c2-b52f-8908f910b49a\" style=\"stroke-miterlimit: 2; opacity: 1;\"><g class=\"fills\"/><g class=\"errorbars\"/><g class=\"lines\"><path class=\"js-line\" d=\"M0,132.22L22.07,183.15L44.14,131.43L66.21,108.61L88.28,168.37L110.34,108.87L132.41,153.33L154.48,213.19L176.55,123.32L198.62,65.11L220.69,107.18L242.76,136.65L264.83,142.71L286.9,165.65L308.97,185.16L331.03,141.27L353.1,123.1L375.17,85.7L397.24,133.22L419.31,198.06L441.38,194.18L463.45,123.71L485.52,118.53L507.59,229.9L529.66,184.44L551.72,100.19L573.79,12.75L595.86,53.36L617.93,146.55L640,242.25\" style=\"vector-effect: non-scaling-stroke; fill: none; stroke: rgb(255, 127, 14); stroke-opacity: 1; stroke-width: 2px; opacity: 1; stroke-dasharray: 3px, 3px;\"/></g><g class=\"points\"/><g class=\"text\"/></g></g></g><g class=\"overplot\"/><path class=\"xlines-above crisp\" d=\"M0,0\" style=\"fill: none;\"/><path class=\"ylines-above crisp\" d=\"M0,0\" style=\"fill: none;\"/><g class=\"overlines-above\"/><g class=\"xaxislayer-above\"><g class=\"xtick\"><text text-anchor=\"middle\" x=\"0\" y=\"333\" transform=\"translate(30,0)\" style=\"font-family: 'Open Sans', verdana, arial, sans-serif; font-size: 12px; fill: rgb(42, 63, 95); fill-opacity: 1; white-space: pre;\">0</text></g><g class=\"xtick\"><text text-anchor=\"middle\" x=\"0\" y=\"333\" transform=\"translate(140.34,0)\" style=\"font-family: 'Open Sans', verdana, arial, sans-serif; font-size: 12px; fill: rgb(42, 63, 95); fill-opacity: 1; white-space: pre;\">5</text></g><g class=\"xtick\"><text text-anchor=\"middle\" x=\"0\" y=\"333\" transform=\"translate(250.69,0)\" style=\"font-family: 'Open Sans', verdana, arial, sans-serif; font-size: 12px; fill: rgb(42, 63, 95); fill-opacity: 1; white-space: pre;\">10</text></g><g class=\"xtick\"><text text-anchor=\"middle\" x=\"0\" y=\"333\" transform=\"translate(361.03,0)\" style=\"font-family: 'Open Sans', verdana, arial, sans-serif; font-size: 12px; fill: rgb(42, 63, 95); fill-opacity: 1; white-space: pre;\">15</text></g><g class=\"xtick\"><text text-anchor=\"middle\" x=\"0\" y=\"333\" transform=\"translate(471.38,0)\" style=\"font-family: 'Open Sans', verdana, arial, sans-serif; font-size: 12px; fill: rgb(42, 63, 95); fill-opacity: 1; white-space: pre;\">20</text></g><g class=\"xtick\"><text text-anchor=\"middle\" x=\"0\" y=\"333\" transform=\"translate(581.72,0)\" style=\"font-family: 'Open Sans', verdana, arial, sans-serif; font-size: 12px; fill: rgb(42, 63, 95); fill-opacity: 1; white-space: pre;\">25</text></g></g><g class=\"yaxislayer-above\"><g class=\"ytick\"><text text-anchor=\"end\" x=\"29\" y=\"4.199999999999999\" transform=\"translate(0,281.6)\" style=\"font-family: 'Open Sans', verdana, arial, sans-serif; font-size: 12px; fill: rgb(42, 63, 95); fill-opacity: 1; white-space: pre;\">−1</text></g><g class=\"ytick\"><text text-anchor=\"end\" x=\"29\" y=\"4.199999999999999\" transform=\"translate(0,238.71)\" style=\"font-family: 'Open Sans', verdana, arial, sans-serif; font-size: 12px; fill: rgb(42, 63, 95); fill-opacity: 1; white-space: pre;\">0</text></g><g class=\"ytick\"><text text-anchor=\"end\" x=\"29\" y=\"4.199999999999999\" transform=\"translate(0,195.82)\" style=\"font-family: 'Open Sans', verdana, arial, sans-serif; font-size: 12px; fill: rgb(42, 63, 95); fill-opacity: 1; white-space: pre;\">1</text></g><g class=\"ytick\"><text text-anchor=\"end\" x=\"29\" y=\"4.199999999999999\" transform=\"translate(0,152.93)\" style=\"font-family: 'Open Sans', verdana, arial, sans-serif; font-size: 12px; fill: rgb(42, 63, 95); fill-opacity: 1; white-space: pre;\">2</text></g><g class=\"ytick\"><text text-anchor=\"end\" x=\"29\" y=\"4.199999999999999\" transform=\"translate(0,110.03999999999999)\" style=\"font-family: 'Open Sans', verdana, arial, sans-serif; font-size: 12px; fill: rgb(42, 63, 95); fill-opacity: 1; white-space: pre;\">3</text></g><g class=\"ytick\"><text text-anchor=\"end\" x=\"29\" y=\"4.199999999999999\" transform=\"translate(0,67.14)\" style=\"font-family: 'Open Sans', verdana, arial, sans-serif; font-size: 12px; fill: rgb(42, 63, 95); fill-opacity: 1; white-space: pre;\">4</text></g></g><g class=\"overaxes-above\"/></g></g><g class=\"polarlayer\"/><g class=\"ternarylayer\"/><g class=\"geolayer\"/><g class=\"funnelarealayer\"/><g class=\"pielayer\"/><g class=\"treemaplayer\"/><g class=\"sunburstlayer\"/><g class=\"glimages\"/><defs id=\"topdefs-364132\"><g class=\"clips\"/><clipPath id=\"legend364132\"><rect width=\"481\" height=\"48\" x=\"0\" y=\"0\"/></clipPath></defs><g class=\"layer-above\"><g class=\"imagelayer\"/><g class=\"shapelayer\"/></g><g class=\"infolayer\"><g class=\"legend\" pointer-events=\"all\" transform=\"translate(189,11.899999999999991)\"><rect class=\"bg\" shape-rendering=\"crispEdges\" style=\"stroke: rgb(68, 68, 68); stroke-opacity: 1; fill: rgb(255, 255, 255); fill-opacity: 1; stroke-width: 0px;\" width=\"481\" height=\"48\" x=\"0\" y=\"0\"/><g class=\"scrollbox\" transform=\"\" clip-path=\"url('#legend364132')\"><g class=\"groups\"><g class=\"traces\" transform=\"translate(0,14.5)\" style=\"opacity: 1;\"><text class=\"legendtext\" text-anchor=\"start\" x=\"40\" y=\"4.680000000000001\" style=\"font-family: 'Open Sans', verdana, arial, sans-serif; font-size: 12px; fill: rgb(42, 63, 95); fill-opacity: 1; white-space: pre;\">in_sample_hold</text><g class=\"layers\" style=\"opacity: 1;\"><g class=\"legendfill\"/><g class=\"legendlines\"><path class=\"js-line\" d=\"M5,0h30\" style=\"fill: none; stroke: rgb(31, 119, 180); stroke-opacity: 1; stroke-width: 2px;\"/></g><g class=\"legendsymbols\"><g class=\"legendpoints\"/></g></g><rect class=\"legendtoggle\" x=\"0\" y=\"-9.5\" width=\"137.34375\" height=\"19\" style=\"fill: rgb(0, 0, 0); fill-opacity: 0;\"/></g><g class=\"traces\" transform=\"translate(167.3125,14.5)\" style=\"opacity: 1;\"><text class=\"legendtext\" text-anchor=\"start\" x=\"40\" y=\"4.680000000000001\" style=\"font-family: 'Open Sans', verdana, arial, sans-serif; font-size: 12px; fill: rgb(42, 63, 95); fill-opacity: 1; white-space: pre;\">in_sample_median</text><g class=\"layers\" style=\"opacity: 1;\"><g class=\"legendfill\"/><g class=\"legendlines\"><path class=\"js-line\" d=\"M5,0h30\" style=\"fill: none; stroke: rgb(31, 119, 180); stroke-opacity: 1; stroke-dasharray: 9px, 9px; stroke-width: 2px;\"/></g><g class=\"legendsymbols\"><g class=\"legendpoints\"/></g></g><rect class=\"legendtoggle\" x=\"0\" y=\"-9.5\" width=\"156.09375\" height=\"19\" style=\"fill: rgb(0, 0, 0); fill-opacity: 0;\"/></g><g class=\"traces\" transform=\"translate(334.625,14.5)\" style=\"opacity: 1;\"><text class=\"legendtext\" text-anchor=\"start\" x=\"40\" y=\"4.680000000000001\" style=\"font-family: 'Open Sans', verdana, arial, sans-serif; font-size: 12px; fill: rgb(42, 63, 95); fill-opacity: 1; white-space: pre;\">in_sample_best</text><g class=\"layers\" style=\"opacity: 1;\"><g class=\"legendfill\"/><g class=\"legendlines\"><path class=\"js-line\" d=\"M5,0h30\" style=\"fill: none; stroke: rgb(31, 119, 180); stroke-opacity: 1; stroke-dasharray: 3px, 3px; stroke-width: 2px;\"/></g><g class=\"legendsymbols\"><g class=\"legendpoints\"/></g></g><rect class=\"legendtoggle\" x=\"0\" y=\"-9.5\" width=\"137.3125\" height=\"19\" style=\"fill: rgb(0, 0, 0); fill-opacity: 0;\"/></g><g class=\"traces\" transform=\"translate(0,33.5)\" style=\"opacity: 1;\"><text class=\"legendtext\" text-anchor=\"start\" x=\"40\" y=\"4.680000000000001\" style=\"font-family: 'Open Sans', verdana, arial, sans-serif; font-size: 12px; fill: rgb(42, 63, 95); fill-opacity: 1; white-space: pre;\">out_sample_hold</text><g class=\"layers\" style=\"opacity: 1;\"><g class=\"legendfill\"/><g class=\"legendlines\"><path class=\"js-line\" d=\"M5,0h30\" style=\"fill: none; stroke: rgb(255, 127, 14); stroke-opacity: 1; stroke-width: 2px;\"/></g><g class=\"legendsymbols\"><g class=\"legendpoints\"/></g></g><rect class=\"legendtoggle\" x=\"0\" y=\"-9.5\" width=\"146.0625\" height=\"19\" style=\"fill: rgb(0, 0, 0); fill-opacity: 0;\"/></g><g class=\"traces\" transform=\"translate(167.3125,33.5)\" style=\"opacity: 1;\"><text class=\"legendtext\" text-anchor=\"start\" x=\"40\" y=\"4.680000000000001\" style=\"font-family: 'Open Sans', verdana, arial, sans-serif; font-size: 12px; fill: rgb(42, 63, 95); fill-opacity: 1; white-space: pre;\">out_sample_median</text><g class=\"layers\" style=\"opacity: 1;\"><g class=\"legendfill\"/><g class=\"legendlines\"><path class=\"js-line\" d=\"M5,0h30\" style=\"fill: none; stroke: rgb(255, 127, 14); stroke-opacity: 1; stroke-dasharray: 9px, 9px; stroke-width: 2px;\"/></g><g class=\"legendsymbols\"><g class=\"legendpoints\"/></g></g><rect class=\"legendtoggle\" x=\"0\" y=\"-9.5\" width=\"164.8125\" height=\"19\" style=\"fill: rgb(0, 0, 0); fill-opacity: 0;\"/></g><g class=\"traces\" transform=\"translate(334.625,33.5)\" style=\"opacity: 1;\"><text class=\"legendtext\" text-anchor=\"start\" x=\"40\" y=\"4.680000000000001\" style=\"font-family: 'Open Sans', verdana, arial, sans-serif; font-size: 12px; fill: rgb(42, 63, 95); fill-opacity: 1; white-space: pre;\">out_sample_test</text><g class=\"layers\" style=\"opacity: 1;\"><g class=\"legendfill\"/><g class=\"legendlines\"><path class=\"js-line\" d=\"M5,0h30\" style=\"fill: none; stroke: rgb(255, 127, 14); stroke-opacity: 1; stroke-dasharray: 3px, 3px; stroke-width: 2px;\"/></g><g class=\"legendsymbols\"><g class=\"legendpoints\"/></g></g><rect class=\"legendtoggle\" x=\"0\" y=\"-9.5\" width=\"143.28125\" height=\"19\" style=\"fill: rgb(0, 0, 0); fill-opacity: 0;\"/></g></g></g><rect class=\"scrollbar\" rx=\"20\" ry=\"3\" width=\"0\" height=\"0\" style=\"fill: rgb(128, 139, 164); fill-opacity: 1;\" x=\"0\" y=\"0\"/></g><g class=\"g-gtitle\"/><g class=\"g-xtitle\"/><g class=\"g-ytitle\"/></g></svg>"
      ]
     },
     "metadata": {},
     "output_type": "display_data"
    }
   ],
   "source": [
    "color_schema = vbt.settings['plotting']['color_schema']\n",
    "\n",
    "cv_results_df.vbt.plot(\n",
    "    trace_kwargs=[\n",
    "        dict(line_color=color_schema['blue']),\n",
    "        dict(line_color=color_schema['blue'], line_dash='dash'),\n",
    "        dict(line_color=color_schema['blue'], line_dash='dot'),\n",
    "        dict(line_color=color_schema['orange']),\n",
    "        dict(line_color=color_schema['orange'], line_dash='dash'),\n",
    "        dict(line_color=color_schema['orange'], line_dash='dot')\n",
    "    ]\n",
    ").show_svg()"
   ]
  },
  {
   "cell_type": "code",
   "execution_count": null,
   "metadata": {},
   "outputs": [],
   "source": []
  }
 ],
 "metadata": {
  "kernelspec": {
   "display_name": "Python 3",
   "language": "python",
   "name": "python3"
  },
  "language_info": {
   "codemirror_mode": {
    "name": "ipython",
    "version": 3
   },
   "file_extension": ".py",
   "mimetype": "text/x-python",
   "name": "python",
   "nbconvert_exporter": "python",
   "pygments_lexer": "ipython3",
   "version": "3.7.3"
  }
 },
 "nbformat": 4,
 "nbformat_minor": 4
}
